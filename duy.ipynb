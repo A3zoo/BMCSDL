{
 "cells": [
  {
   "cell_type": "code",
   "execution_count": 2,
   "metadata": {},
   "outputs": [
    {
     "name": "stdout",
     "output_type": "stream",
     "text": [
      "Collecting sqlalchemy\n",
      "  Using cached SQLAlchemy-2.0.36-cp310-cp310-win_amd64.whl.metadata (9.9 kB)\n",
      "Requirement already satisfied: typing-extensions>=4.6.0 in d:\\semester_7\\bmcsdl\\final\\project\\.venv\\lib\\site-packages (from sqlalchemy) (4.12.2)\n",
      "Collecting greenlet!=0.4.17 (from sqlalchemy)\n",
      "  Using cached greenlet-3.1.1-cp310-cp310-win_amd64.whl.metadata (3.9 kB)\n",
      "Using cached SQLAlchemy-2.0.36-cp310-cp310-win_amd64.whl (2.1 MB)\n",
      "Using cached greenlet-3.1.1-cp310-cp310-win_amd64.whl (298 kB)\n",
      "Installing collected packages: greenlet, sqlalchemy\n",
      "Successfully installed greenlet-3.1.1 sqlalchemy-2.0.36\n"
     ]
    }
   ],
   "source": [
    "!pip install sqlalchemy"
   ]
  },
  {
   "cell_type": "code",
   "execution_count": 3,
   "metadata": {},
   "outputs": [
    {
     "name": "stdout",
     "output_type": "stream",
     "text": [
      "1\n"
     ]
    }
   ],
   "source": [
    "from sqlalchemy import create_engine\n",
    "from sqlalchemy.orm import sessionmaker\n",
    "from sqlalchemy import text\n",
    "\n",
    "# Thông tin kết nối\n",
    "username = 'HR'\n",
    "password = 'hr'\n",
    "\n",
    "\n",
    "engine = create_engine(\n",
    "    f'oracle+oracledb://:@',\n",
    "        thick_mode=False,\n",
    "        connect_args={\n",
    "            \"user\": username,\n",
    "            \"password\": password,\n",
    "            \"host\": 'localhost',\n",
    "            \"port\": '1521',\n",
    "            \"service_name\": 'ORCLPDB'\n",
    "    })\n",
    "\n",
    "# Tạo một session\n",
    "Session = sessionmaker(bind=engine)\n",
    "session = Session()\n",
    "\n",
    "# Kiểm tra kết nối bằng cách thực hiện một truy vấn đơn giản\n",
    "result = session.execute(text('select * from customers'))\n",
    "print(1)\n",
    "for row in result:\n",
    "    print(row)\n",
    "\n",
    "# Đóng session\n",
    "session.close()\n"
   ]
  },
  {
   "cell_type": "code",
   "execution_count": 8,
   "metadata": {},
   "outputs": [
    {
     "name": "stderr",
     "output_type": "stream",
     "text": [
      "C:\\Users\\DELL\\AppData\\Local\\Temp\\ipykernel_1080\\2961689555.py:4: MovedIn20Warning: The ``declarative_base()`` function is now available as sqlalchemy.orm.declarative_base(). (deprecated since: 2.0) (Background on SQLAlchemy 2.0 at: https://sqlalche.me/e/b8d9)\n",
      "  Base = declarative_base()\n"
     ]
    }
   ],
   "source": [
    "from sqlalchemy.ext.declarative import declarative_base\n",
    "from sqlalchemy import Column, Integer, String\n",
    "\n",
    "Base = declarative_base()\n",
    "\n",
    "# Định nghĩa mô hình\n",
    "class YourTable(Base):\n",
    "    __tablename__ = 'your_table_name'\n",
    "    \n",
    "    id = Column(Integer, primary_key=True)\n",
    "    name = Column(String)\n",
    "    age = Column(Integer)\n",
    "\n"
   ]
  },
  {
   "cell_type": "code",
   "execution_count": 9,
   "metadata": {},
   "outputs": [
    {
     "ename": "DatabaseError",
     "evalue": "(oracledb.exceptions.DatabaseError) ORA-00906: missing left parenthesis\nHelp: https://docs.oracle.com/error-help/db/ora-00906/\n[SQL: \nCREATE TABLE your_table_name (\n\tid INTEGER NOT NULL, \n\tname VARCHAR2, \n\tage INTEGER, \n\tPRIMARY KEY (id)\n)\n\n]\n(Background on this error at: https://sqlalche.me/e/20/4xp6)",
     "output_type": "error",
     "traceback": [
      "\u001b[1;31m---------------------------------------------------------------------------\u001b[0m",
      "\u001b[1;31mDatabaseError\u001b[0m                             Traceback (most recent call last)",
      "File \u001b[1;32md:\\Semester_7\\BMCSDL\\Final\\.venv\\lib\\site-packages\\sqlalchemy\\engine\\base.py:1967\u001b[0m, in \u001b[0;36mConnection._exec_single_context\u001b[1;34m(self, dialect, context, statement, parameters)\u001b[0m\n\u001b[0;32m   1966\u001b[0m     \u001b[38;5;28;01mif\u001b[39;00m \u001b[38;5;129;01mnot\u001b[39;00m evt_handled:\n\u001b[1;32m-> 1967\u001b[0m         \u001b[38;5;28;43mself\u001b[39;49m\u001b[38;5;241;43m.\u001b[39;49m\u001b[43mdialect\u001b[49m\u001b[38;5;241;43m.\u001b[39;49m\u001b[43mdo_execute\u001b[49m\u001b[43m(\u001b[49m\n\u001b[0;32m   1968\u001b[0m \u001b[43m            \u001b[49m\u001b[43mcursor\u001b[49m\u001b[43m,\u001b[49m\u001b[43m \u001b[49m\u001b[43mstr_statement\u001b[49m\u001b[43m,\u001b[49m\u001b[43m \u001b[49m\u001b[43meffective_parameters\u001b[49m\u001b[43m,\u001b[49m\u001b[43m \u001b[49m\u001b[43mcontext\u001b[49m\n\u001b[0;32m   1969\u001b[0m \u001b[43m        \u001b[49m\u001b[43m)\u001b[49m\n\u001b[0;32m   1971\u001b[0m \u001b[38;5;28;01mif\u001b[39;00m \u001b[38;5;28mself\u001b[39m\u001b[38;5;241m.\u001b[39m_has_events \u001b[38;5;129;01mor\u001b[39;00m \u001b[38;5;28mself\u001b[39m\u001b[38;5;241m.\u001b[39mengine\u001b[38;5;241m.\u001b[39m_has_events:\n",
      "File \u001b[1;32md:\\Semester_7\\BMCSDL\\Final\\.venv\\lib\\site-packages\\sqlalchemy\\engine\\default.py:941\u001b[0m, in \u001b[0;36mDefaultDialect.do_execute\u001b[1;34m(self, cursor, statement, parameters, context)\u001b[0m\n\u001b[0;32m    940\u001b[0m \u001b[38;5;28;01mdef\u001b[39;00m \u001b[38;5;21mdo_execute\u001b[39m(\u001b[38;5;28mself\u001b[39m, cursor, statement, parameters, context\u001b[38;5;241m=\u001b[39m\u001b[38;5;28;01mNone\u001b[39;00m):\n\u001b[1;32m--> 941\u001b[0m     \u001b[43mcursor\u001b[49m\u001b[38;5;241;43m.\u001b[39;49m\u001b[43mexecute\u001b[49m\u001b[43m(\u001b[49m\u001b[43mstatement\u001b[49m\u001b[43m,\u001b[49m\u001b[43m \u001b[49m\u001b[43mparameters\u001b[49m\u001b[43m)\u001b[49m\n",
      "File \u001b[1;32md:\\Semester_7\\BMCSDL\\Final\\.venv\\lib\\site-packages\\oracledb\\cursor.py:710\u001b[0m, in \u001b[0;36mCursor.execute\u001b[1;34m(self, statement, parameters, **keyword_parameters)\u001b[0m\n\u001b[0;32m    709\u001b[0m impl \u001b[38;5;241m=\u001b[39m \u001b[38;5;28mself\u001b[39m\u001b[38;5;241m.\u001b[39m_impl\n\u001b[1;32m--> 710\u001b[0m \u001b[43mimpl\u001b[49m\u001b[38;5;241;43m.\u001b[39;49m\u001b[43mexecute\u001b[49m\u001b[43m(\u001b[49m\u001b[38;5;28;43mself\u001b[39;49m\u001b[43m)\u001b[49m\n\u001b[0;32m    711\u001b[0m \u001b[38;5;28;01mif\u001b[39;00m impl\u001b[38;5;241m.\u001b[39mfetch_vars \u001b[38;5;129;01mis\u001b[39;00m \u001b[38;5;129;01mnot\u001b[39;00m \u001b[38;5;28;01mNone\u001b[39;00m:\n",
      "File \u001b[1;32msrc\\\\oracledb\\\\impl/thin/cursor.pyx:196\u001b[0m, in \u001b[0;36moracledb.thin_impl.ThinCursorImpl.execute\u001b[1;34m()\u001b[0m\n",
      "File \u001b[1;32msrc\\\\oracledb\\\\impl/thin/protocol.pyx:440\u001b[0m, in \u001b[0;36moracledb.thin_impl.Protocol._process_single_message\u001b[1;34m()\u001b[0m\n",
      "File \u001b[1;32msrc\\\\oracledb\\\\impl/thin/protocol.pyx:441\u001b[0m, in \u001b[0;36moracledb.thin_impl.Protocol._process_single_message\u001b[1;34m()\u001b[0m\n",
      "File \u001b[1;32msrc\\\\oracledb\\\\impl/thin/protocol.pyx:433\u001b[0m, in \u001b[0;36moracledb.thin_impl.Protocol._process_message\u001b[1;34m()\u001b[0m\n",
      "File \u001b[1;32msrc\\\\oracledb\\\\impl/thin/messages.pyx:74\u001b[0m, in \u001b[0;36moracledb.thin_impl.Message._check_and_raise_exception\u001b[1;34m()\u001b[0m\n",
      "\u001b[1;31mDatabaseError\u001b[0m: ORA-00906: missing left parenthesis\nHelp: https://docs.oracle.com/error-help/db/ora-00906/",
      "\nThe above exception was the direct cause of the following exception:\n",
      "\u001b[1;31mDatabaseError\u001b[0m                             Traceback (most recent call last)",
      "Cell \u001b[1;32mIn[9], line 2\u001b[0m\n\u001b[0;32m      1\u001b[0m \u001b[38;5;66;03m# Tạo bảng trong cơ sở dữ liệu nếu nó chưa tồn tại\u001b[39;00m\n\u001b[1;32m----> 2\u001b[0m \u001b[43mBase\u001b[49m\u001b[38;5;241;43m.\u001b[39;49m\u001b[43mmetadata\u001b[49m\u001b[38;5;241;43m.\u001b[39;49m\u001b[43mcreate_all\u001b[49m\u001b[43m(\u001b[49m\u001b[43mengine\u001b[49m\u001b[43m)\u001b[49m\n\u001b[0;32m      3\u001b[0m \u001b[38;5;66;03m# Thêm một đối tượng mới vào cơ sở dữ liệu\u001b[39;00m\n",
      "File \u001b[1;32md:\\Semester_7\\BMCSDL\\Final\\.venv\\lib\\site-packages\\sqlalchemy\\sql\\schema.py:5868\u001b[0m, in \u001b[0;36mMetaData.create_all\u001b[1;34m(self, bind, tables, checkfirst)\u001b[0m\n\u001b[0;32m   5844\u001b[0m \u001b[38;5;28;01mdef\u001b[39;00m \u001b[38;5;21mcreate_all\u001b[39m(\n\u001b[0;32m   5845\u001b[0m     \u001b[38;5;28mself\u001b[39m,\n\u001b[0;32m   5846\u001b[0m     bind: _CreateDropBind,\n\u001b[0;32m   5847\u001b[0m     tables: Optional[_typing_Sequence[Table]] \u001b[38;5;241m=\u001b[39m \u001b[38;5;28;01mNone\u001b[39;00m,\n\u001b[0;32m   5848\u001b[0m     checkfirst: \u001b[38;5;28mbool\u001b[39m \u001b[38;5;241m=\u001b[39m \u001b[38;5;28;01mTrue\u001b[39;00m,\n\u001b[0;32m   5849\u001b[0m ) \u001b[38;5;241m-\u001b[39m\u001b[38;5;241m>\u001b[39m \u001b[38;5;28;01mNone\u001b[39;00m:\n\u001b[0;32m   5850\u001b[0m \u001b[38;5;250m    \u001b[39m\u001b[38;5;124;03m\"\"\"Create all tables stored in this metadata.\u001b[39;00m\n\u001b[0;32m   5851\u001b[0m \n\u001b[0;32m   5852\u001b[0m \u001b[38;5;124;03m    Conditional by default, will not attempt to recreate tables already\u001b[39;00m\n\u001b[1;32m   (...)\u001b[0m\n\u001b[0;32m   5866\u001b[0m \n\u001b[0;32m   5867\u001b[0m \u001b[38;5;124;03m    \"\"\"\u001b[39;00m\n\u001b[1;32m-> 5868\u001b[0m     \u001b[43mbind\u001b[49m\u001b[38;5;241;43m.\u001b[39;49m\u001b[43m_run_ddl_visitor\u001b[49m\u001b[43m(\u001b[49m\n\u001b[0;32m   5869\u001b[0m \u001b[43m        \u001b[49m\u001b[43mddl\u001b[49m\u001b[38;5;241;43m.\u001b[39;49m\u001b[43mSchemaGenerator\u001b[49m\u001b[43m,\u001b[49m\u001b[43m \u001b[49m\u001b[38;5;28;43mself\u001b[39;49m\u001b[43m,\u001b[49m\u001b[43m \u001b[49m\u001b[43mcheckfirst\u001b[49m\u001b[38;5;241;43m=\u001b[39;49m\u001b[43mcheckfirst\u001b[49m\u001b[43m,\u001b[49m\u001b[43m \u001b[49m\u001b[43mtables\u001b[49m\u001b[38;5;241;43m=\u001b[39;49m\u001b[43mtables\u001b[49m\n\u001b[0;32m   5870\u001b[0m \u001b[43m    \u001b[49m\u001b[43m)\u001b[49m\n",
      "File \u001b[1;32md:\\Semester_7\\BMCSDL\\Final\\.venv\\lib\\site-packages\\sqlalchemy\\engine\\base.py:3253\u001b[0m, in \u001b[0;36mEngine._run_ddl_visitor\u001b[1;34m(self, visitorcallable, element, **kwargs)\u001b[0m\n\u001b[0;32m   3246\u001b[0m \u001b[38;5;28;01mdef\u001b[39;00m \u001b[38;5;21m_run_ddl_visitor\u001b[39m(\n\u001b[0;32m   3247\u001b[0m     \u001b[38;5;28mself\u001b[39m,\n\u001b[0;32m   3248\u001b[0m     visitorcallable: Type[Union[SchemaGenerator, SchemaDropper]],\n\u001b[0;32m   3249\u001b[0m     element: SchemaItem,\n\u001b[0;32m   3250\u001b[0m     \u001b[38;5;241m*\u001b[39m\u001b[38;5;241m*\u001b[39mkwargs: Any,\n\u001b[0;32m   3251\u001b[0m ) \u001b[38;5;241m-\u001b[39m\u001b[38;5;241m>\u001b[39m \u001b[38;5;28;01mNone\u001b[39;00m:\n\u001b[0;32m   3252\u001b[0m     \u001b[38;5;28;01mwith\u001b[39;00m \u001b[38;5;28mself\u001b[39m\u001b[38;5;241m.\u001b[39mbegin() \u001b[38;5;28;01mas\u001b[39;00m conn:\n\u001b[1;32m-> 3253\u001b[0m         conn\u001b[38;5;241m.\u001b[39m_run_ddl_visitor(visitorcallable, element, \u001b[38;5;241m*\u001b[39m\u001b[38;5;241m*\u001b[39mkwargs)\n",
      "File \u001b[1;32md:\\Semester_7\\BMCSDL\\Final\\.venv\\lib\\site-packages\\sqlalchemy\\engine\\base.py:2459\u001b[0m, in \u001b[0;36mConnection._run_ddl_visitor\u001b[1;34m(self, visitorcallable, element, **kwargs)\u001b[0m\n\u001b[0;32m   2447\u001b[0m \u001b[38;5;28;01mdef\u001b[39;00m \u001b[38;5;21m_run_ddl_visitor\u001b[39m(\n\u001b[0;32m   2448\u001b[0m     \u001b[38;5;28mself\u001b[39m,\n\u001b[0;32m   2449\u001b[0m     visitorcallable: Type[Union[SchemaGenerator, SchemaDropper]],\n\u001b[0;32m   2450\u001b[0m     element: SchemaItem,\n\u001b[0;32m   2451\u001b[0m     \u001b[38;5;241m*\u001b[39m\u001b[38;5;241m*\u001b[39mkwargs: Any,\n\u001b[0;32m   2452\u001b[0m ) \u001b[38;5;241m-\u001b[39m\u001b[38;5;241m>\u001b[39m \u001b[38;5;28;01mNone\u001b[39;00m:\n\u001b[0;32m   2453\u001b[0m \u001b[38;5;250m    \u001b[39m\u001b[38;5;124;03m\"\"\"run a DDL visitor.\u001b[39;00m\n\u001b[0;32m   2454\u001b[0m \n\u001b[0;32m   2455\u001b[0m \u001b[38;5;124;03m    This method is only here so that the MockConnection can change the\u001b[39;00m\n\u001b[0;32m   2456\u001b[0m \u001b[38;5;124;03m    options given to the visitor so that \"checkfirst\" is skipped.\u001b[39;00m\n\u001b[0;32m   2457\u001b[0m \n\u001b[0;32m   2458\u001b[0m \u001b[38;5;124;03m    \"\"\"\u001b[39;00m\n\u001b[1;32m-> 2459\u001b[0m     \u001b[43mvisitorcallable\u001b[49m\u001b[43m(\u001b[49m\u001b[38;5;28;43mself\u001b[39;49m\u001b[38;5;241;43m.\u001b[39;49m\u001b[43mdialect\u001b[49m\u001b[43m,\u001b[49m\u001b[43m \u001b[49m\u001b[38;5;28;43mself\u001b[39;49m\u001b[43m,\u001b[49m\u001b[43m \u001b[49m\u001b[38;5;241;43m*\u001b[39;49m\u001b[38;5;241;43m*\u001b[39;49m\u001b[43mkwargs\u001b[49m\u001b[43m)\u001b[49m\u001b[38;5;241;43m.\u001b[39;49m\u001b[43mtraverse_single\u001b[49m\u001b[43m(\u001b[49m\u001b[43melement\u001b[49m\u001b[43m)\u001b[49m\n",
      "File \u001b[1;32md:\\Semester_7\\BMCSDL\\Final\\.venv\\lib\\site-packages\\sqlalchemy\\sql\\visitors.py:664\u001b[0m, in \u001b[0;36mExternalTraversal.traverse_single\u001b[1;34m(self, obj, **kw)\u001b[0m\n\u001b[0;32m    662\u001b[0m meth \u001b[38;5;241m=\u001b[39m \u001b[38;5;28mgetattr\u001b[39m(v, \u001b[38;5;124m\"\u001b[39m\u001b[38;5;124mvisit_\u001b[39m\u001b[38;5;132;01m%s\u001b[39;00m\u001b[38;5;124m\"\u001b[39m \u001b[38;5;241m%\u001b[39m obj\u001b[38;5;241m.\u001b[39m__visit_name__, \u001b[38;5;28;01mNone\u001b[39;00m)\n\u001b[0;32m    663\u001b[0m \u001b[38;5;28;01mif\u001b[39;00m meth:\n\u001b[1;32m--> 664\u001b[0m     \u001b[38;5;28;01mreturn\u001b[39;00m meth(obj, \u001b[38;5;241m*\u001b[39m\u001b[38;5;241m*\u001b[39mkw)\n",
      "File \u001b[1;32md:\\Semester_7\\BMCSDL\\Final\\.venv\\lib\\site-packages\\sqlalchemy\\sql\\ddl.py:918\u001b[0m, in \u001b[0;36mSchemaGenerator.visit_metadata\u001b[1;34m(self, metadata)\u001b[0m\n\u001b[0;32m    916\u001b[0m \u001b[38;5;28;01mfor\u001b[39;00m table, fkcs \u001b[38;5;129;01min\u001b[39;00m collection:\n\u001b[0;32m    917\u001b[0m     \u001b[38;5;28;01mif\u001b[39;00m table \u001b[38;5;129;01mis\u001b[39;00m \u001b[38;5;129;01mnot\u001b[39;00m \u001b[38;5;28;01mNone\u001b[39;00m:\n\u001b[1;32m--> 918\u001b[0m         \u001b[38;5;28;43mself\u001b[39;49m\u001b[38;5;241;43m.\u001b[39;49m\u001b[43mtraverse_single\u001b[49m\u001b[43m(\u001b[49m\n\u001b[0;32m    919\u001b[0m \u001b[43m            \u001b[49m\u001b[43mtable\u001b[49m\u001b[43m,\u001b[49m\n\u001b[0;32m    920\u001b[0m \u001b[43m            \u001b[49m\u001b[43mcreate_ok\u001b[49m\u001b[38;5;241;43m=\u001b[39;49m\u001b[38;5;28;43;01mTrue\u001b[39;49;00m\u001b[43m,\u001b[49m\n\u001b[0;32m    921\u001b[0m \u001b[43m            \u001b[49m\u001b[43minclude_foreign_key_constraints\u001b[49m\u001b[38;5;241;43m=\u001b[39;49m\u001b[43mfkcs\u001b[49m\u001b[43m,\u001b[49m\n\u001b[0;32m    922\u001b[0m \u001b[43m            \u001b[49m\u001b[43m_is_metadata_operation\u001b[49m\u001b[38;5;241;43m=\u001b[39;49m\u001b[38;5;28;43;01mTrue\u001b[39;49;00m\u001b[43m,\u001b[49m\n\u001b[0;32m    923\u001b[0m \u001b[43m        \u001b[49m\u001b[43m)\u001b[49m\n\u001b[0;32m    924\u001b[0m     \u001b[38;5;28;01melse\u001b[39;00m:\n\u001b[0;32m    925\u001b[0m         \u001b[38;5;28;01mfor\u001b[39;00m fkc \u001b[38;5;129;01min\u001b[39;00m fkcs:\n",
      "File \u001b[1;32md:\\Semester_7\\BMCSDL\\Final\\.venv\\lib\\site-packages\\sqlalchemy\\sql\\visitors.py:664\u001b[0m, in \u001b[0;36mExternalTraversal.traverse_single\u001b[1;34m(self, obj, **kw)\u001b[0m\n\u001b[0;32m    662\u001b[0m meth \u001b[38;5;241m=\u001b[39m \u001b[38;5;28mgetattr\u001b[39m(v, \u001b[38;5;124m\"\u001b[39m\u001b[38;5;124mvisit_\u001b[39m\u001b[38;5;132;01m%s\u001b[39;00m\u001b[38;5;124m\"\u001b[39m \u001b[38;5;241m%\u001b[39m obj\u001b[38;5;241m.\u001b[39m__visit_name__, \u001b[38;5;28;01mNone\u001b[39;00m)\n\u001b[0;32m    663\u001b[0m \u001b[38;5;28;01mif\u001b[39;00m meth:\n\u001b[1;32m--> 664\u001b[0m     \u001b[38;5;28;01mreturn\u001b[39;00m meth(obj, \u001b[38;5;241m*\u001b[39m\u001b[38;5;241m*\u001b[39mkw)\n",
      "File \u001b[1;32md:\\Semester_7\\BMCSDL\\Final\\.venv\\lib\\site-packages\\sqlalchemy\\sql\\ddl.py:956\u001b[0m, in \u001b[0;36mSchemaGenerator.visit_table\u001b[1;34m(self, table, create_ok, include_foreign_key_constraints, _is_metadata_operation)\u001b[0m\n\u001b[0;32m    947\u001b[0m \u001b[38;5;28;01mif\u001b[39;00m \u001b[38;5;129;01mnot\u001b[39;00m \u001b[38;5;28mself\u001b[39m\u001b[38;5;241m.\u001b[39mdialect\u001b[38;5;241m.\u001b[39msupports_alter:\n\u001b[0;32m    948\u001b[0m     \u001b[38;5;66;03m# e.g., don't omit any foreign key constraints\u001b[39;00m\n\u001b[0;32m    949\u001b[0m     include_foreign_key_constraints \u001b[38;5;241m=\u001b[39m \u001b[38;5;28;01mNone\u001b[39;00m\n\u001b[0;32m    951\u001b[0m \u001b[43mCreateTable\u001b[49m\u001b[43m(\u001b[49m\n\u001b[0;32m    952\u001b[0m \u001b[43m    \u001b[49m\u001b[43mtable\u001b[49m\u001b[43m,\u001b[49m\n\u001b[0;32m    953\u001b[0m \u001b[43m    \u001b[49m\u001b[43minclude_foreign_key_constraints\u001b[49m\u001b[38;5;241;43m=\u001b[39;49m\u001b[43m(\u001b[49m\n\u001b[0;32m    954\u001b[0m \u001b[43m        \u001b[49m\u001b[43minclude_foreign_key_constraints\u001b[49m\n\u001b[0;32m    955\u001b[0m \u001b[43m    \u001b[49m\u001b[43m)\u001b[49m\u001b[43m,\u001b[49m\n\u001b[1;32m--> 956\u001b[0m \u001b[43m\u001b[49m\u001b[43m)\u001b[49m\u001b[38;5;241;43m.\u001b[39;49m\u001b[43m_invoke_with\u001b[49m\u001b[43m(\u001b[49m\u001b[38;5;28;43mself\u001b[39;49m\u001b[38;5;241;43m.\u001b[39;49m\u001b[43mconnection\u001b[49m\u001b[43m)\u001b[49m\n\u001b[0;32m    958\u001b[0m \u001b[38;5;28;01mif\u001b[39;00m \u001b[38;5;28mhasattr\u001b[39m(table, \u001b[38;5;124m\"\u001b[39m\u001b[38;5;124mindexes\u001b[39m\u001b[38;5;124m\"\u001b[39m):\n\u001b[0;32m    959\u001b[0m     \u001b[38;5;28;01mfor\u001b[39;00m index \u001b[38;5;129;01min\u001b[39;00m table\u001b[38;5;241m.\u001b[39mindexes:\n",
      "File \u001b[1;32md:\\Semester_7\\BMCSDL\\Final\\.venv\\lib\\site-packages\\sqlalchemy\\sql\\ddl.py:314\u001b[0m, in \u001b[0;36mExecutableDDLElement._invoke_with\u001b[1;34m(self, bind)\u001b[0m\n\u001b[0;32m    312\u001b[0m \u001b[38;5;28;01mdef\u001b[39;00m \u001b[38;5;21m_invoke_with\u001b[39m(\u001b[38;5;28mself\u001b[39m, bind):\n\u001b[0;32m    313\u001b[0m     \u001b[38;5;28;01mif\u001b[39;00m \u001b[38;5;28mself\u001b[39m\u001b[38;5;241m.\u001b[39m_should_execute(\u001b[38;5;28mself\u001b[39m\u001b[38;5;241m.\u001b[39mtarget, bind):\n\u001b[1;32m--> 314\u001b[0m         \u001b[38;5;28;01mreturn\u001b[39;00m \u001b[43mbind\u001b[49m\u001b[38;5;241;43m.\u001b[39;49m\u001b[43mexecute\u001b[49m\u001b[43m(\u001b[49m\u001b[38;5;28;43mself\u001b[39;49m\u001b[43m)\u001b[49m\n",
      "File \u001b[1;32md:\\Semester_7\\BMCSDL\\Final\\.venv\\lib\\site-packages\\sqlalchemy\\engine\\base.py:1418\u001b[0m, in \u001b[0;36mConnection.execute\u001b[1;34m(self, statement, parameters, execution_options)\u001b[0m\n\u001b[0;32m   1416\u001b[0m     \u001b[38;5;28;01mraise\u001b[39;00m exc\u001b[38;5;241m.\u001b[39mObjectNotExecutableError(statement) \u001b[38;5;28;01mfrom\u001b[39;00m \u001b[38;5;21;01merr\u001b[39;00m\n\u001b[0;32m   1417\u001b[0m \u001b[38;5;28;01melse\u001b[39;00m:\n\u001b[1;32m-> 1418\u001b[0m     \u001b[38;5;28;01mreturn\u001b[39;00m \u001b[43mmeth\u001b[49m\u001b[43m(\u001b[49m\n\u001b[0;32m   1419\u001b[0m \u001b[43m        \u001b[49m\u001b[38;5;28;43mself\u001b[39;49m\u001b[43m,\u001b[49m\n\u001b[0;32m   1420\u001b[0m \u001b[43m        \u001b[49m\u001b[43mdistilled_parameters\u001b[49m\u001b[43m,\u001b[49m\n\u001b[0;32m   1421\u001b[0m \u001b[43m        \u001b[49m\u001b[43mexecution_options\u001b[49m\u001b[43m \u001b[49m\u001b[38;5;129;43;01mor\u001b[39;49;00m\u001b[43m \u001b[49m\u001b[43mNO_OPTIONS\u001b[49m\u001b[43m,\u001b[49m\n\u001b[0;32m   1422\u001b[0m \u001b[43m    \u001b[49m\u001b[43m)\u001b[49m\n",
      "File \u001b[1;32md:\\Semester_7\\BMCSDL\\Final\\.venv\\lib\\site-packages\\sqlalchemy\\sql\\ddl.py:180\u001b[0m, in \u001b[0;36mExecutableDDLElement._execute_on_connection\u001b[1;34m(self, connection, distilled_params, execution_options)\u001b[0m\n\u001b[0;32m    177\u001b[0m \u001b[38;5;28;01mdef\u001b[39;00m \u001b[38;5;21m_execute_on_connection\u001b[39m(\n\u001b[0;32m    178\u001b[0m     \u001b[38;5;28mself\u001b[39m, connection, distilled_params, execution_options\n\u001b[0;32m    179\u001b[0m ):\n\u001b[1;32m--> 180\u001b[0m     \u001b[38;5;28;01mreturn\u001b[39;00m \u001b[43mconnection\u001b[49m\u001b[38;5;241;43m.\u001b[39;49m\u001b[43m_execute_ddl\u001b[49m\u001b[43m(\u001b[49m\n\u001b[0;32m    181\u001b[0m \u001b[43m        \u001b[49m\u001b[38;5;28;43mself\u001b[39;49m\u001b[43m,\u001b[49m\u001b[43m \u001b[49m\u001b[43mdistilled_params\u001b[49m\u001b[43m,\u001b[49m\u001b[43m \u001b[49m\u001b[43mexecution_options\u001b[49m\n\u001b[0;32m    182\u001b[0m \u001b[43m    \u001b[49m\u001b[43m)\u001b[49m\n",
      "File \u001b[1;32md:\\Semester_7\\BMCSDL\\Final\\.venv\\lib\\site-packages\\sqlalchemy\\engine\\base.py:1529\u001b[0m, in \u001b[0;36mConnection._execute_ddl\u001b[1;34m(self, ddl, distilled_parameters, execution_options)\u001b[0m\n\u001b[0;32m   1524\u001b[0m dialect \u001b[38;5;241m=\u001b[39m \u001b[38;5;28mself\u001b[39m\u001b[38;5;241m.\u001b[39mdialect\n\u001b[0;32m   1526\u001b[0m compiled \u001b[38;5;241m=\u001b[39m ddl\u001b[38;5;241m.\u001b[39mcompile(\n\u001b[0;32m   1527\u001b[0m     dialect\u001b[38;5;241m=\u001b[39mdialect, schema_translate_map\u001b[38;5;241m=\u001b[39mschema_translate_map\n\u001b[0;32m   1528\u001b[0m )\n\u001b[1;32m-> 1529\u001b[0m ret \u001b[38;5;241m=\u001b[39m \u001b[38;5;28;43mself\u001b[39;49m\u001b[38;5;241;43m.\u001b[39;49m\u001b[43m_execute_context\u001b[49m\u001b[43m(\u001b[49m\n\u001b[0;32m   1530\u001b[0m \u001b[43m    \u001b[49m\u001b[43mdialect\u001b[49m\u001b[43m,\u001b[49m\n\u001b[0;32m   1531\u001b[0m \u001b[43m    \u001b[49m\u001b[43mdialect\u001b[49m\u001b[38;5;241;43m.\u001b[39;49m\u001b[43mexecution_ctx_cls\u001b[49m\u001b[38;5;241;43m.\u001b[39;49m\u001b[43m_init_ddl\u001b[49m\u001b[43m,\u001b[49m\n\u001b[0;32m   1532\u001b[0m \u001b[43m    \u001b[49m\u001b[43mcompiled\u001b[49m\u001b[43m,\u001b[49m\n\u001b[0;32m   1533\u001b[0m \u001b[43m    \u001b[49m\u001b[38;5;28;43;01mNone\u001b[39;49;00m\u001b[43m,\u001b[49m\n\u001b[0;32m   1534\u001b[0m \u001b[43m    \u001b[49m\u001b[43mexec_opts\u001b[49m\u001b[43m,\u001b[49m\n\u001b[0;32m   1535\u001b[0m \u001b[43m    \u001b[49m\u001b[43mcompiled\u001b[49m\u001b[43m,\u001b[49m\n\u001b[0;32m   1536\u001b[0m \u001b[43m\u001b[49m\u001b[43m)\u001b[49m\n\u001b[0;32m   1537\u001b[0m \u001b[38;5;28;01mif\u001b[39;00m \u001b[38;5;28mself\u001b[39m\u001b[38;5;241m.\u001b[39m_has_events \u001b[38;5;129;01mor\u001b[39;00m \u001b[38;5;28mself\u001b[39m\u001b[38;5;241m.\u001b[39mengine\u001b[38;5;241m.\u001b[39m_has_events:\n\u001b[0;32m   1538\u001b[0m     \u001b[38;5;28mself\u001b[39m\u001b[38;5;241m.\u001b[39mdispatch\u001b[38;5;241m.\u001b[39mafter_execute(\n\u001b[0;32m   1539\u001b[0m         \u001b[38;5;28mself\u001b[39m,\n\u001b[0;32m   1540\u001b[0m         ddl,\n\u001b[1;32m   (...)\u001b[0m\n\u001b[0;32m   1544\u001b[0m         ret,\n\u001b[0;32m   1545\u001b[0m     )\n",
      "File \u001b[1;32md:\\Semester_7\\BMCSDL\\Final\\.venv\\lib\\site-packages\\sqlalchemy\\engine\\base.py:1846\u001b[0m, in \u001b[0;36mConnection._execute_context\u001b[1;34m(self, dialect, constructor, statement, parameters, execution_options, *args, **kw)\u001b[0m\n\u001b[0;32m   1844\u001b[0m     \u001b[38;5;28;01mreturn\u001b[39;00m \u001b[38;5;28mself\u001b[39m\u001b[38;5;241m.\u001b[39m_exec_insertmany_context(dialect, context)\n\u001b[0;32m   1845\u001b[0m \u001b[38;5;28;01melse\u001b[39;00m:\n\u001b[1;32m-> 1846\u001b[0m     \u001b[38;5;28;01mreturn\u001b[39;00m \u001b[38;5;28;43mself\u001b[39;49m\u001b[38;5;241;43m.\u001b[39;49m\u001b[43m_exec_single_context\u001b[49m\u001b[43m(\u001b[49m\n\u001b[0;32m   1847\u001b[0m \u001b[43m        \u001b[49m\u001b[43mdialect\u001b[49m\u001b[43m,\u001b[49m\u001b[43m \u001b[49m\u001b[43mcontext\u001b[49m\u001b[43m,\u001b[49m\u001b[43m \u001b[49m\u001b[43mstatement\u001b[49m\u001b[43m,\u001b[49m\u001b[43m \u001b[49m\u001b[43mparameters\u001b[49m\n\u001b[0;32m   1848\u001b[0m \u001b[43m    \u001b[49m\u001b[43m)\u001b[49m\n",
      "File \u001b[1;32md:\\Semester_7\\BMCSDL\\Final\\.venv\\lib\\site-packages\\sqlalchemy\\engine\\base.py:1986\u001b[0m, in \u001b[0;36mConnection._exec_single_context\u001b[1;34m(self, dialect, context, statement, parameters)\u001b[0m\n\u001b[0;32m   1983\u001b[0m     result \u001b[38;5;241m=\u001b[39m context\u001b[38;5;241m.\u001b[39m_setup_result_proxy()\n\u001b[0;32m   1985\u001b[0m \u001b[38;5;28;01mexcept\u001b[39;00m \u001b[38;5;167;01mBaseException\u001b[39;00m \u001b[38;5;28;01mas\u001b[39;00m e:\n\u001b[1;32m-> 1986\u001b[0m     \u001b[38;5;28;43mself\u001b[39;49m\u001b[38;5;241;43m.\u001b[39;49m\u001b[43m_handle_dbapi_exception\u001b[49m\u001b[43m(\u001b[49m\n\u001b[0;32m   1987\u001b[0m \u001b[43m        \u001b[49m\u001b[43me\u001b[49m\u001b[43m,\u001b[49m\u001b[43m \u001b[49m\u001b[43mstr_statement\u001b[49m\u001b[43m,\u001b[49m\u001b[43m \u001b[49m\u001b[43meffective_parameters\u001b[49m\u001b[43m,\u001b[49m\u001b[43m \u001b[49m\u001b[43mcursor\u001b[49m\u001b[43m,\u001b[49m\u001b[43m \u001b[49m\u001b[43mcontext\u001b[49m\n\u001b[0;32m   1988\u001b[0m \u001b[43m    \u001b[49m\u001b[43m)\u001b[49m\n\u001b[0;32m   1990\u001b[0m \u001b[38;5;28;01mreturn\u001b[39;00m result\n",
      "File \u001b[1;32md:\\Semester_7\\BMCSDL\\Final\\.venv\\lib\\site-packages\\sqlalchemy\\engine\\base.py:2355\u001b[0m, in \u001b[0;36mConnection._handle_dbapi_exception\u001b[1;34m(self, e, statement, parameters, cursor, context, is_sub_exec)\u001b[0m\n\u001b[0;32m   2353\u001b[0m \u001b[38;5;28;01melif\u001b[39;00m should_wrap:\n\u001b[0;32m   2354\u001b[0m     \u001b[38;5;28;01massert\u001b[39;00m sqlalchemy_exception \u001b[38;5;129;01mis\u001b[39;00m \u001b[38;5;129;01mnot\u001b[39;00m \u001b[38;5;28;01mNone\u001b[39;00m\n\u001b[1;32m-> 2355\u001b[0m     \u001b[38;5;28;01mraise\u001b[39;00m sqlalchemy_exception\u001b[38;5;241m.\u001b[39mwith_traceback(exc_info[\u001b[38;5;241m2\u001b[39m]) \u001b[38;5;28;01mfrom\u001b[39;00m \u001b[38;5;21;01me\u001b[39;00m\n\u001b[0;32m   2356\u001b[0m \u001b[38;5;28;01melse\u001b[39;00m:\n\u001b[0;32m   2357\u001b[0m     \u001b[38;5;28;01massert\u001b[39;00m exc_info[\u001b[38;5;241m1\u001b[39m] \u001b[38;5;129;01mis\u001b[39;00m \u001b[38;5;129;01mnot\u001b[39;00m \u001b[38;5;28;01mNone\u001b[39;00m\n",
      "File \u001b[1;32md:\\Semester_7\\BMCSDL\\Final\\.venv\\lib\\site-packages\\sqlalchemy\\engine\\base.py:1967\u001b[0m, in \u001b[0;36mConnection._exec_single_context\u001b[1;34m(self, dialect, context, statement, parameters)\u001b[0m\n\u001b[0;32m   1965\u001b[0m                 \u001b[38;5;28;01mbreak\u001b[39;00m\n\u001b[0;32m   1966\u001b[0m     \u001b[38;5;28;01mif\u001b[39;00m \u001b[38;5;129;01mnot\u001b[39;00m evt_handled:\n\u001b[1;32m-> 1967\u001b[0m         \u001b[38;5;28;43mself\u001b[39;49m\u001b[38;5;241;43m.\u001b[39;49m\u001b[43mdialect\u001b[49m\u001b[38;5;241;43m.\u001b[39;49m\u001b[43mdo_execute\u001b[49m\u001b[43m(\u001b[49m\n\u001b[0;32m   1968\u001b[0m \u001b[43m            \u001b[49m\u001b[43mcursor\u001b[49m\u001b[43m,\u001b[49m\u001b[43m \u001b[49m\u001b[43mstr_statement\u001b[49m\u001b[43m,\u001b[49m\u001b[43m \u001b[49m\u001b[43meffective_parameters\u001b[49m\u001b[43m,\u001b[49m\u001b[43m \u001b[49m\u001b[43mcontext\u001b[49m\n\u001b[0;32m   1969\u001b[0m \u001b[43m        \u001b[49m\u001b[43m)\u001b[49m\n\u001b[0;32m   1971\u001b[0m \u001b[38;5;28;01mif\u001b[39;00m \u001b[38;5;28mself\u001b[39m\u001b[38;5;241m.\u001b[39m_has_events \u001b[38;5;129;01mor\u001b[39;00m \u001b[38;5;28mself\u001b[39m\u001b[38;5;241m.\u001b[39mengine\u001b[38;5;241m.\u001b[39m_has_events:\n\u001b[0;32m   1972\u001b[0m     \u001b[38;5;28mself\u001b[39m\u001b[38;5;241m.\u001b[39mdispatch\u001b[38;5;241m.\u001b[39mafter_cursor_execute(\n\u001b[0;32m   1973\u001b[0m         \u001b[38;5;28mself\u001b[39m,\n\u001b[0;32m   1974\u001b[0m         cursor,\n\u001b[1;32m   (...)\u001b[0m\n\u001b[0;32m   1978\u001b[0m         context\u001b[38;5;241m.\u001b[39mexecutemany,\n\u001b[0;32m   1979\u001b[0m     )\n",
      "File \u001b[1;32md:\\Semester_7\\BMCSDL\\Final\\.venv\\lib\\site-packages\\sqlalchemy\\engine\\default.py:941\u001b[0m, in \u001b[0;36mDefaultDialect.do_execute\u001b[1;34m(self, cursor, statement, parameters, context)\u001b[0m\n\u001b[0;32m    940\u001b[0m \u001b[38;5;28;01mdef\u001b[39;00m \u001b[38;5;21mdo_execute\u001b[39m(\u001b[38;5;28mself\u001b[39m, cursor, statement, parameters, context\u001b[38;5;241m=\u001b[39m\u001b[38;5;28;01mNone\u001b[39;00m):\n\u001b[1;32m--> 941\u001b[0m     \u001b[43mcursor\u001b[49m\u001b[38;5;241;43m.\u001b[39;49m\u001b[43mexecute\u001b[49m\u001b[43m(\u001b[49m\u001b[43mstatement\u001b[49m\u001b[43m,\u001b[49m\u001b[43m \u001b[49m\u001b[43mparameters\u001b[49m\u001b[43m)\u001b[49m\n",
      "File \u001b[1;32md:\\Semester_7\\BMCSDL\\Final\\.venv\\lib\\site-packages\\oracledb\\cursor.py:710\u001b[0m, in \u001b[0;36mCursor.execute\u001b[1;34m(self, statement, parameters, **keyword_parameters)\u001b[0m\n\u001b[0;32m    708\u001b[0m \u001b[38;5;28mself\u001b[39m\u001b[38;5;241m.\u001b[39m_prepare_for_execute(statement, parameters, keyword_parameters)\n\u001b[0;32m    709\u001b[0m impl \u001b[38;5;241m=\u001b[39m \u001b[38;5;28mself\u001b[39m\u001b[38;5;241m.\u001b[39m_impl\n\u001b[1;32m--> 710\u001b[0m \u001b[43mimpl\u001b[49m\u001b[38;5;241;43m.\u001b[39;49m\u001b[43mexecute\u001b[49m\u001b[43m(\u001b[49m\u001b[38;5;28;43mself\u001b[39;49m\u001b[43m)\u001b[49m\n\u001b[0;32m    711\u001b[0m \u001b[38;5;28;01mif\u001b[39;00m impl\u001b[38;5;241m.\u001b[39mfetch_vars \u001b[38;5;129;01mis\u001b[39;00m \u001b[38;5;129;01mnot\u001b[39;00m \u001b[38;5;28;01mNone\u001b[39;00m:\n\u001b[0;32m    712\u001b[0m     \u001b[38;5;28;01mreturn\u001b[39;00m \u001b[38;5;28mself\u001b[39m\n",
      "File \u001b[1;32msrc\\\\oracledb\\\\impl/thin/cursor.pyx:196\u001b[0m, in \u001b[0;36moracledb.thin_impl.ThinCursorImpl.execute\u001b[1;34m()\u001b[0m\n",
      "File \u001b[1;32msrc\\\\oracledb\\\\impl/thin/protocol.pyx:440\u001b[0m, in \u001b[0;36moracledb.thin_impl.Protocol._process_single_message\u001b[1;34m()\u001b[0m\n",
      "File \u001b[1;32msrc\\\\oracledb\\\\impl/thin/protocol.pyx:441\u001b[0m, in \u001b[0;36moracledb.thin_impl.Protocol._process_single_message\u001b[1;34m()\u001b[0m\n",
      "File \u001b[1;32msrc\\\\oracledb\\\\impl/thin/protocol.pyx:433\u001b[0m, in \u001b[0;36moracledb.thin_impl.Protocol._process_message\u001b[1;34m()\u001b[0m\n",
      "File \u001b[1;32msrc\\\\oracledb\\\\impl/thin/messages.pyx:74\u001b[0m, in \u001b[0;36moracledb.thin_impl.Message._check_and_raise_exception\u001b[1;34m()\u001b[0m\n",
      "\u001b[1;31mDatabaseError\u001b[0m: (oracledb.exceptions.DatabaseError) ORA-00906: missing left parenthesis\nHelp: https://docs.oracle.com/error-help/db/ora-00906/\n[SQL: \nCREATE TABLE your_table_name (\n\tid INTEGER NOT NULL, \n\tname VARCHAR2, \n\tage INTEGER, \n\tPRIMARY KEY (id)\n)\n\n]\n(Background on this error at: https://sqlalche.me/e/20/4xp6)"
     ]
    }
   ],
   "source": [
    "# Tạo bảng trong cơ sở dữ liệu nếu nó chưa tồn tại\n",
    "Base.metadata.create_all(engine)\n",
    "# Thêm một đối tượng mới vào cơ sở dữ liệu\n"
   ]
  },
  {
   "cell_type": "code",
   "execution_count": 11,
   "metadata": {},
   "outputs": [
    {
     "name": "stderr",
     "output_type": "stream",
     "text": [
      "C:\\Users\\DELL\\AppData\\Local\\Temp\\ipykernel_1080\\286717430.py:6: MovedIn20Warning: The ``declarative_base()`` function is now available as sqlalchemy.orm.declarative_base(). (deprecated since: 2.0) (Background on SQLAlchemy 2.0 at: https://sqlalche.me/e/b8d9)\n",
      "  Base = declarative_base()\n"
     ]
    }
   ],
   "source": [
    "from sqlalchemy import create_engine, Column, Integer, String, Float, TIMESTAMP, ForeignKey\n",
    "from sqlalchemy.ext.declarative import declarative_base\n",
    "from sqlalchemy.orm import sessionmaker\n",
    "from sqlalchemy.sql import func\n",
    "\n",
    "Base = declarative_base()\n",
    "Session = sessionmaker(bind=engine)\n",
    "\n",
    "# Step 2: Define the Table Models\n",
    "class User(Base):\n",
    "    __tablename__ = 'users'\n",
    "\n",
    "    id = Column(Integer, primary_key=True, autoincrement=True)\n",
    "    username = Column(String(50), nullable=False, unique=True)\n",
    "    email = Column(String(100), nullable=False, unique=True)\n",
    "    password = Column(String(255), nullable=False)\n",
    "    created_at = Column(TIMESTAMP, server_default=func.now())\n",
    "\n",
    "class Product(Base):\n",
    "    __tablename__ = 'products'\n",
    "\n",
    "    product_id = Column(Integer, primary_key=True, autoincrement=True)\n",
    "    product_name = Column(String(100), nullable=False)\n",
    "    price = Column(Float, nullable=False)\n",
    "    stock_quantity = Column(Integer, nullable=False)\n",
    "    created_at = Column(TIMESTAMP, server_default=func.now())\n",
    "\n",
    "class Order(Base):\n",
    "    __tablename__ = 'orders'\n",
    "\n",
    "    order_id = Column(Integer, primary_key=True, autoincrement=True)\n",
    "    user_id = Column(Integer, ForeignKey('users.id'), nullable=False)\n",
    "    order_date = Column(TIMESTAMP, server_default=func.now())\n",
    "    total_amount = Column(Float, nullable=False)\n",
    "\n",
    "# Step 3: Create the Tables\n",
    "Base.metadata.create_all(engine)\n",
    "\n",
    "# Optional: Creating a session to interact with the database\n",
    "session = Session()\n",
    "\n",
    "# You can now use the session to add data, query, etc.\n"
   ]
  },
  {
   "cell_type": "code",
   "execution_count": 12,
   "metadata": {},
   "outputs": [
    {
     "ename": "IntegrityError",
     "evalue": "(oracledb.exceptions.IntegrityError) ORA-01400: cannot insert NULL into (\"HR\".\"ORDERS\".\"ORDER_ID\")\nHelp: https://docs.oracle.com/error-help/db/ora-01400/\n[SQL: INSERT INTO orders (user_id, total_amount) VALUES (:user_id, :total_amount) RETURNING orders.order_id, orders.order_date INTO :ret_0, :ret_1]\n[parameters: {'user_id': None, 'total_amount': 999.99, 'ret_0': <oracledb.Var of type DB_TYPE_VARCHAR with value []>, 'ret_1': <oracledb.Var of type DB_TYPE_TIMESTAMP with value []>}]\n(Background on this error at: https://sqlalche.me/e/20/gkpj)",
     "output_type": "error",
     "traceback": [
      "\u001b[1;31m---------------------------------------------------------------------------\u001b[0m",
      "\u001b[1;31mIntegrityError\u001b[0m                            Traceback (most recent call last)",
      "File \u001b[1;32md:\\Semester_7\\BMCSDL\\Final\\.venv\\lib\\site-packages\\sqlalchemy\\engine\\base.py:1967\u001b[0m, in \u001b[0;36mConnection._exec_single_context\u001b[1;34m(self, dialect, context, statement, parameters)\u001b[0m\n\u001b[0;32m   1966\u001b[0m     \u001b[38;5;28;01mif\u001b[39;00m \u001b[38;5;129;01mnot\u001b[39;00m evt_handled:\n\u001b[1;32m-> 1967\u001b[0m         \u001b[38;5;28;43mself\u001b[39;49m\u001b[38;5;241;43m.\u001b[39;49m\u001b[43mdialect\u001b[49m\u001b[38;5;241;43m.\u001b[39;49m\u001b[43mdo_execute\u001b[49m\u001b[43m(\u001b[49m\n\u001b[0;32m   1968\u001b[0m \u001b[43m            \u001b[49m\u001b[43mcursor\u001b[49m\u001b[43m,\u001b[49m\u001b[43m \u001b[49m\u001b[43mstr_statement\u001b[49m\u001b[43m,\u001b[49m\u001b[43m \u001b[49m\u001b[43meffective_parameters\u001b[49m\u001b[43m,\u001b[49m\u001b[43m \u001b[49m\u001b[43mcontext\u001b[49m\n\u001b[0;32m   1969\u001b[0m \u001b[43m        \u001b[49m\u001b[43m)\u001b[49m\n\u001b[0;32m   1971\u001b[0m \u001b[38;5;28;01mif\u001b[39;00m \u001b[38;5;28mself\u001b[39m\u001b[38;5;241m.\u001b[39m_has_events \u001b[38;5;129;01mor\u001b[39;00m \u001b[38;5;28mself\u001b[39m\u001b[38;5;241m.\u001b[39mengine\u001b[38;5;241m.\u001b[39m_has_events:\n",
      "File \u001b[1;32md:\\Semester_7\\BMCSDL\\Final\\.venv\\lib\\site-packages\\sqlalchemy\\engine\\default.py:941\u001b[0m, in \u001b[0;36mDefaultDialect.do_execute\u001b[1;34m(self, cursor, statement, parameters, context)\u001b[0m\n\u001b[0;32m    940\u001b[0m \u001b[38;5;28;01mdef\u001b[39;00m \u001b[38;5;21mdo_execute\u001b[39m(\u001b[38;5;28mself\u001b[39m, cursor, statement, parameters, context\u001b[38;5;241m=\u001b[39m\u001b[38;5;28;01mNone\u001b[39;00m):\n\u001b[1;32m--> 941\u001b[0m     \u001b[43mcursor\u001b[49m\u001b[38;5;241;43m.\u001b[39;49m\u001b[43mexecute\u001b[49m\u001b[43m(\u001b[49m\u001b[43mstatement\u001b[49m\u001b[43m,\u001b[49m\u001b[43m \u001b[49m\u001b[43mparameters\u001b[49m\u001b[43m)\u001b[49m\n",
      "File \u001b[1;32md:\\Semester_7\\BMCSDL\\Final\\.venv\\lib\\site-packages\\oracledb\\cursor.py:710\u001b[0m, in \u001b[0;36mCursor.execute\u001b[1;34m(self, statement, parameters, **keyword_parameters)\u001b[0m\n\u001b[0;32m    709\u001b[0m impl \u001b[38;5;241m=\u001b[39m \u001b[38;5;28mself\u001b[39m\u001b[38;5;241m.\u001b[39m_impl\n\u001b[1;32m--> 710\u001b[0m \u001b[43mimpl\u001b[49m\u001b[38;5;241;43m.\u001b[39;49m\u001b[43mexecute\u001b[49m\u001b[43m(\u001b[49m\u001b[38;5;28;43mself\u001b[39;49m\u001b[43m)\u001b[49m\n\u001b[0;32m    711\u001b[0m \u001b[38;5;28;01mif\u001b[39;00m impl\u001b[38;5;241m.\u001b[39mfetch_vars \u001b[38;5;129;01mis\u001b[39;00m \u001b[38;5;129;01mnot\u001b[39;00m \u001b[38;5;28;01mNone\u001b[39;00m:\n",
      "File \u001b[1;32msrc\\\\oracledb\\\\impl/thin/cursor.pyx:196\u001b[0m, in \u001b[0;36moracledb.thin_impl.ThinCursorImpl.execute\u001b[1;34m()\u001b[0m\n",
      "File \u001b[1;32msrc\\\\oracledb\\\\impl/thin/protocol.pyx:440\u001b[0m, in \u001b[0;36moracledb.thin_impl.Protocol._process_single_message\u001b[1;34m()\u001b[0m\n",
      "File \u001b[1;32msrc\\\\oracledb\\\\impl/thin/protocol.pyx:441\u001b[0m, in \u001b[0;36moracledb.thin_impl.Protocol._process_single_message\u001b[1;34m()\u001b[0m\n",
      "File \u001b[1;32msrc\\\\oracledb\\\\impl/thin/protocol.pyx:433\u001b[0m, in \u001b[0;36moracledb.thin_impl.Protocol._process_message\u001b[1;34m()\u001b[0m\n",
      "File \u001b[1;32msrc\\\\oracledb\\\\impl/thin/messages.pyx:74\u001b[0m, in \u001b[0;36moracledb.thin_impl.Message._check_and_raise_exception\u001b[1;34m()\u001b[0m\n",
      "\u001b[1;31mIntegrityError\u001b[0m: ORA-01400: cannot insert NULL into (\"HR\".\"ORDERS\".\"ORDER_ID\")\nHelp: https://docs.oracle.com/error-help/db/ora-01400/",
      "\nThe above exception was the direct cause of the following exception:\n",
      "\u001b[1;31mIntegrityError\u001b[0m                            Traceback (most recent call last)",
      "Cell \u001b[1;32mIn[12], line 18\u001b[0m\n\u001b[0;32m     15\u001b[0m session\u001b[38;5;241m.\u001b[39madd(new_order)\n\u001b[0;32m     17\u001b[0m \u001b[38;5;66;03m# Cam kết (commit) các thay đổi vào cơ sở dữ liệu\u001b[39;00m\n\u001b[1;32m---> 18\u001b[0m \u001b[43msession\u001b[49m\u001b[38;5;241;43m.\u001b[39;49m\u001b[43mcommit\u001b[49m\u001b[43m(\u001b[49m\u001b[43m)\u001b[49m\n\u001b[0;32m     20\u001b[0m \u001b[38;5;66;03m# Đóng phiên\u001b[39;00m\n\u001b[0;32m     21\u001b[0m session\u001b[38;5;241m.\u001b[39mclose()\n",
      "File \u001b[1;32md:\\Semester_7\\BMCSDL\\Final\\.venv\\lib\\site-packages\\sqlalchemy\\orm\\session.py:2028\u001b[0m, in \u001b[0;36mSession.commit\u001b[1;34m(self)\u001b[0m\n\u001b[0;32m   2025\u001b[0m \u001b[38;5;28;01mif\u001b[39;00m trans \u001b[38;5;129;01mis\u001b[39;00m \u001b[38;5;28;01mNone\u001b[39;00m:\n\u001b[0;32m   2026\u001b[0m     trans \u001b[38;5;241m=\u001b[39m \u001b[38;5;28mself\u001b[39m\u001b[38;5;241m.\u001b[39m_autobegin_t()\n\u001b[1;32m-> 2028\u001b[0m \u001b[43mtrans\u001b[49m\u001b[38;5;241;43m.\u001b[39;49m\u001b[43mcommit\u001b[49m\u001b[43m(\u001b[49m\u001b[43m_to_root\u001b[49m\u001b[38;5;241;43m=\u001b[39;49m\u001b[38;5;28;43;01mTrue\u001b[39;49;00m\u001b[43m)\u001b[49m\n",
      "File \u001b[1;32m<string>:2\u001b[0m, in \u001b[0;36mcommit\u001b[1;34m(self, _to_root)\u001b[0m\n",
      "File \u001b[1;32md:\\Semester_7\\BMCSDL\\Final\\.venv\\lib\\site-packages\\sqlalchemy\\orm\\state_changes.py:139\u001b[0m, in \u001b[0;36m_StateChange.declare_states.<locals>._go\u001b[1;34m(fn, self, *arg, **kw)\u001b[0m\n\u001b[0;32m    137\u001b[0m \u001b[38;5;28mself\u001b[39m\u001b[38;5;241m.\u001b[39m_next_state \u001b[38;5;241m=\u001b[39m _StateChangeStates\u001b[38;5;241m.\u001b[39mCHANGE_IN_PROGRESS\n\u001b[0;32m    138\u001b[0m \u001b[38;5;28;01mtry\u001b[39;00m:\n\u001b[1;32m--> 139\u001b[0m     ret_value \u001b[38;5;241m=\u001b[39m fn(\u001b[38;5;28mself\u001b[39m, \u001b[38;5;241m*\u001b[39marg, \u001b[38;5;241m*\u001b[39m\u001b[38;5;241m*\u001b[39mkw)\n\u001b[0;32m    140\u001b[0m \u001b[38;5;28;01mexcept\u001b[39;00m:\n\u001b[0;32m    141\u001b[0m     \u001b[38;5;28;01mraise\u001b[39;00m\n",
      "File \u001b[1;32md:\\Semester_7\\BMCSDL\\Final\\.venv\\lib\\site-packages\\sqlalchemy\\orm\\session.py:1313\u001b[0m, in \u001b[0;36mSessionTransaction.commit\u001b[1;34m(self, _to_root)\u001b[0m\n\u001b[0;32m   1311\u001b[0m \u001b[38;5;28;01mif\u001b[39;00m \u001b[38;5;28mself\u001b[39m\u001b[38;5;241m.\u001b[39m_state \u001b[38;5;129;01mis\u001b[39;00m \u001b[38;5;129;01mnot\u001b[39;00m SessionTransactionState\u001b[38;5;241m.\u001b[39mPREPARED:\n\u001b[0;32m   1312\u001b[0m     \u001b[38;5;28;01mwith\u001b[39;00m \u001b[38;5;28mself\u001b[39m\u001b[38;5;241m.\u001b[39m_expect_state(SessionTransactionState\u001b[38;5;241m.\u001b[39mPREPARED):\n\u001b[1;32m-> 1313\u001b[0m         \u001b[38;5;28;43mself\u001b[39;49m\u001b[38;5;241;43m.\u001b[39;49m\u001b[43m_prepare_impl\u001b[49m\u001b[43m(\u001b[49m\u001b[43m)\u001b[49m\n\u001b[0;32m   1315\u001b[0m \u001b[38;5;28;01mif\u001b[39;00m \u001b[38;5;28mself\u001b[39m\u001b[38;5;241m.\u001b[39m_parent \u001b[38;5;129;01mis\u001b[39;00m \u001b[38;5;28;01mNone\u001b[39;00m \u001b[38;5;129;01mor\u001b[39;00m \u001b[38;5;28mself\u001b[39m\u001b[38;5;241m.\u001b[39mnested:\n\u001b[0;32m   1316\u001b[0m     \u001b[38;5;28;01mfor\u001b[39;00m conn, trans, should_commit, autoclose \u001b[38;5;129;01min\u001b[39;00m \u001b[38;5;28mset\u001b[39m(\n\u001b[0;32m   1317\u001b[0m         \u001b[38;5;28mself\u001b[39m\u001b[38;5;241m.\u001b[39m_connections\u001b[38;5;241m.\u001b[39mvalues()\n\u001b[0;32m   1318\u001b[0m     ):\n",
      "File \u001b[1;32m<string>:2\u001b[0m, in \u001b[0;36m_prepare_impl\u001b[1;34m(self)\u001b[0m\n",
      "File \u001b[1;32md:\\Semester_7\\BMCSDL\\Final\\.venv\\lib\\site-packages\\sqlalchemy\\orm\\state_changes.py:139\u001b[0m, in \u001b[0;36m_StateChange.declare_states.<locals>._go\u001b[1;34m(fn, self, *arg, **kw)\u001b[0m\n\u001b[0;32m    137\u001b[0m \u001b[38;5;28mself\u001b[39m\u001b[38;5;241m.\u001b[39m_next_state \u001b[38;5;241m=\u001b[39m _StateChangeStates\u001b[38;5;241m.\u001b[39mCHANGE_IN_PROGRESS\n\u001b[0;32m    138\u001b[0m \u001b[38;5;28;01mtry\u001b[39;00m:\n\u001b[1;32m--> 139\u001b[0m     ret_value \u001b[38;5;241m=\u001b[39m fn(\u001b[38;5;28mself\u001b[39m, \u001b[38;5;241m*\u001b[39marg, \u001b[38;5;241m*\u001b[39m\u001b[38;5;241m*\u001b[39mkw)\n\u001b[0;32m    140\u001b[0m \u001b[38;5;28;01mexcept\u001b[39;00m:\n\u001b[0;32m    141\u001b[0m     \u001b[38;5;28;01mraise\u001b[39;00m\n",
      "File \u001b[1;32md:\\Semester_7\\BMCSDL\\Final\\.venv\\lib\\site-packages\\sqlalchemy\\orm\\session.py:1288\u001b[0m, in \u001b[0;36mSessionTransaction._prepare_impl\u001b[1;34m(self)\u001b[0m\n\u001b[0;32m   1286\u001b[0m     \u001b[38;5;28;01mif\u001b[39;00m \u001b[38;5;28mself\u001b[39m\u001b[38;5;241m.\u001b[39msession\u001b[38;5;241m.\u001b[39m_is_clean():\n\u001b[0;32m   1287\u001b[0m         \u001b[38;5;28;01mbreak\u001b[39;00m\n\u001b[1;32m-> 1288\u001b[0m     \u001b[38;5;28;43mself\u001b[39;49m\u001b[38;5;241;43m.\u001b[39;49m\u001b[43msession\u001b[49m\u001b[38;5;241;43m.\u001b[39;49m\u001b[43mflush\u001b[49m\u001b[43m(\u001b[49m\u001b[43m)\u001b[49m\n\u001b[0;32m   1289\u001b[0m \u001b[38;5;28;01melse\u001b[39;00m:\n\u001b[0;32m   1290\u001b[0m     \u001b[38;5;28;01mraise\u001b[39;00m exc\u001b[38;5;241m.\u001b[39mFlushError(\n\u001b[0;32m   1291\u001b[0m         \u001b[38;5;124m\"\u001b[39m\u001b[38;5;124mOver 100 subsequent flushes have occurred within \u001b[39m\u001b[38;5;124m\"\u001b[39m\n\u001b[0;32m   1292\u001b[0m         \u001b[38;5;124m\"\u001b[39m\u001b[38;5;124msession.commit() - is an after_flush() hook \u001b[39m\u001b[38;5;124m\"\u001b[39m\n\u001b[0;32m   1293\u001b[0m         \u001b[38;5;124m\"\u001b[39m\u001b[38;5;124mcreating new objects?\u001b[39m\u001b[38;5;124m\"\u001b[39m\n\u001b[0;32m   1294\u001b[0m     )\n",
      "File \u001b[1;32md:\\Semester_7\\BMCSDL\\Final\\.venv\\lib\\site-packages\\sqlalchemy\\orm\\session.py:4352\u001b[0m, in \u001b[0;36mSession.flush\u001b[1;34m(self, objects)\u001b[0m\n\u001b[0;32m   4350\u001b[0m \u001b[38;5;28;01mtry\u001b[39;00m:\n\u001b[0;32m   4351\u001b[0m     \u001b[38;5;28mself\u001b[39m\u001b[38;5;241m.\u001b[39m_flushing \u001b[38;5;241m=\u001b[39m \u001b[38;5;28;01mTrue\u001b[39;00m\n\u001b[1;32m-> 4352\u001b[0m     \u001b[38;5;28;43mself\u001b[39;49m\u001b[38;5;241;43m.\u001b[39;49m\u001b[43m_flush\u001b[49m\u001b[43m(\u001b[49m\u001b[43mobjects\u001b[49m\u001b[43m)\u001b[49m\n\u001b[0;32m   4353\u001b[0m \u001b[38;5;28;01mfinally\u001b[39;00m:\n\u001b[0;32m   4354\u001b[0m     \u001b[38;5;28mself\u001b[39m\u001b[38;5;241m.\u001b[39m_flushing \u001b[38;5;241m=\u001b[39m \u001b[38;5;28;01mFalse\u001b[39;00m\n",
      "File \u001b[1;32md:\\Semester_7\\BMCSDL\\Final\\.venv\\lib\\site-packages\\sqlalchemy\\orm\\session.py:4487\u001b[0m, in \u001b[0;36mSession._flush\u001b[1;34m(self, objects)\u001b[0m\n\u001b[0;32m   4484\u001b[0m     transaction\u001b[38;5;241m.\u001b[39mcommit()\n\u001b[0;32m   4486\u001b[0m \u001b[38;5;28;01mexcept\u001b[39;00m:\n\u001b[1;32m-> 4487\u001b[0m     \u001b[38;5;28;01mwith\u001b[39;00m util\u001b[38;5;241m.\u001b[39msafe_reraise():\n\u001b[0;32m   4488\u001b[0m         transaction\u001b[38;5;241m.\u001b[39mrollback(_capture_exception\u001b[38;5;241m=\u001b[39m\u001b[38;5;28;01mTrue\u001b[39;00m)\n",
      "File \u001b[1;32md:\\Semester_7\\BMCSDL\\Final\\.venv\\lib\\site-packages\\sqlalchemy\\util\\langhelpers.py:146\u001b[0m, in \u001b[0;36msafe_reraise.__exit__\u001b[1;34m(self, type_, value, traceback)\u001b[0m\n\u001b[0;32m    144\u001b[0m     \u001b[38;5;28;01massert\u001b[39;00m exc_value \u001b[38;5;129;01mis\u001b[39;00m \u001b[38;5;129;01mnot\u001b[39;00m \u001b[38;5;28;01mNone\u001b[39;00m\n\u001b[0;32m    145\u001b[0m     \u001b[38;5;28mself\u001b[39m\u001b[38;5;241m.\u001b[39m_exc_info \u001b[38;5;241m=\u001b[39m \u001b[38;5;28;01mNone\u001b[39;00m  \u001b[38;5;66;03m# remove potential circular references\u001b[39;00m\n\u001b[1;32m--> 146\u001b[0m     \u001b[38;5;28;01mraise\u001b[39;00m exc_value\u001b[38;5;241m.\u001b[39mwith_traceback(exc_tb)\n\u001b[0;32m    147\u001b[0m \u001b[38;5;28;01melse\u001b[39;00m:\n\u001b[0;32m    148\u001b[0m     \u001b[38;5;28mself\u001b[39m\u001b[38;5;241m.\u001b[39m_exc_info \u001b[38;5;241m=\u001b[39m \u001b[38;5;28;01mNone\u001b[39;00m  \u001b[38;5;66;03m# remove potential circular references\u001b[39;00m\n",
      "File \u001b[1;32md:\\Semester_7\\BMCSDL\\Final\\.venv\\lib\\site-packages\\sqlalchemy\\orm\\session.py:4448\u001b[0m, in \u001b[0;36mSession._flush\u001b[1;34m(self, objects)\u001b[0m\n\u001b[0;32m   4446\u001b[0m \u001b[38;5;28mself\u001b[39m\u001b[38;5;241m.\u001b[39m_warn_on_events \u001b[38;5;241m=\u001b[39m \u001b[38;5;28;01mTrue\u001b[39;00m\n\u001b[0;32m   4447\u001b[0m \u001b[38;5;28;01mtry\u001b[39;00m:\n\u001b[1;32m-> 4448\u001b[0m     \u001b[43mflush_context\u001b[49m\u001b[38;5;241;43m.\u001b[39;49m\u001b[43mexecute\u001b[49m\u001b[43m(\u001b[49m\u001b[43m)\u001b[49m\n\u001b[0;32m   4449\u001b[0m \u001b[38;5;28;01mfinally\u001b[39;00m:\n\u001b[0;32m   4450\u001b[0m     \u001b[38;5;28mself\u001b[39m\u001b[38;5;241m.\u001b[39m_warn_on_events \u001b[38;5;241m=\u001b[39m \u001b[38;5;28;01mFalse\u001b[39;00m\n",
      "File \u001b[1;32md:\\Semester_7\\BMCSDL\\Final\\.venv\\lib\\site-packages\\sqlalchemy\\orm\\unitofwork.py:466\u001b[0m, in \u001b[0;36mUOWTransaction.execute\u001b[1;34m(self)\u001b[0m\n\u001b[0;32m    464\u001b[0m \u001b[38;5;28;01melse\u001b[39;00m:\n\u001b[0;32m    465\u001b[0m     \u001b[38;5;28;01mfor\u001b[39;00m rec \u001b[38;5;129;01min\u001b[39;00m topological\u001b[38;5;241m.\u001b[39msort(\u001b[38;5;28mself\u001b[39m\u001b[38;5;241m.\u001b[39mdependencies, postsort_actions):\n\u001b[1;32m--> 466\u001b[0m         \u001b[43mrec\u001b[49m\u001b[38;5;241;43m.\u001b[39;49m\u001b[43mexecute\u001b[49m\u001b[43m(\u001b[49m\u001b[38;5;28;43mself\u001b[39;49m\u001b[43m)\u001b[49m\n",
      "File \u001b[1;32md:\\Semester_7\\BMCSDL\\Final\\.venv\\lib\\site-packages\\sqlalchemy\\orm\\unitofwork.py:642\u001b[0m, in \u001b[0;36mSaveUpdateAll.execute\u001b[1;34m(self, uow)\u001b[0m\n\u001b[0;32m    640\u001b[0m \u001b[38;5;129m@util\u001b[39m\u001b[38;5;241m.\u001b[39mpreload_module(\u001b[38;5;124m\"\u001b[39m\u001b[38;5;124msqlalchemy.orm.persistence\u001b[39m\u001b[38;5;124m\"\u001b[39m)\n\u001b[0;32m    641\u001b[0m \u001b[38;5;28;01mdef\u001b[39;00m \u001b[38;5;21mexecute\u001b[39m(\u001b[38;5;28mself\u001b[39m, uow):\n\u001b[1;32m--> 642\u001b[0m     \u001b[43mutil\u001b[49m\u001b[38;5;241;43m.\u001b[39;49m\u001b[43mpreloaded\u001b[49m\u001b[38;5;241;43m.\u001b[39;49m\u001b[43morm_persistence\u001b[49m\u001b[38;5;241;43m.\u001b[39;49m\u001b[43msave_obj\u001b[49m\u001b[43m(\u001b[49m\n\u001b[0;32m    643\u001b[0m \u001b[43m        \u001b[49m\u001b[38;5;28;43mself\u001b[39;49m\u001b[38;5;241;43m.\u001b[39;49m\u001b[43mmapper\u001b[49m\u001b[43m,\u001b[49m\n\u001b[0;32m    644\u001b[0m \u001b[43m        \u001b[49m\u001b[43muow\u001b[49m\u001b[38;5;241;43m.\u001b[39;49m\u001b[43mstates_for_mapper_hierarchy\u001b[49m\u001b[43m(\u001b[49m\u001b[38;5;28;43mself\u001b[39;49m\u001b[38;5;241;43m.\u001b[39;49m\u001b[43mmapper\u001b[49m\u001b[43m,\u001b[49m\u001b[43m \u001b[49m\u001b[38;5;28;43;01mFalse\u001b[39;49;00m\u001b[43m,\u001b[49m\u001b[43m \u001b[49m\u001b[38;5;28;43;01mFalse\u001b[39;49;00m\u001b[43m)\u001b[49m\u001b[43m,\u001b[49m\n\u001b[0;32m    645\u001b[0m \u001b[43m        \u001b[49m\u001b[43muow\u001b[49m\u001b[43m,\u001b[49m\n\u001b[0;32m    646\u001b[0m \u001b[43m    \u001b[49m\u001b[43m)\u001b[49m\n",
      "File \u001b[1;32md:\\Semester_7\\BMCSDL\\Final\\.venv\\lib\\site-packages\\sqlalchemy\\orm\\persistence.py:93\u001b[0m, in \u001b[0;36msave_obj\u001b[1;34m(base_mapper, states, uowtransaction, single)\u001b[0m\n\u001b[0;32m     81\u001b[0m     update \u001b[38;5;241m=\u001b[39m _collect_update_commands(\n\u001b[0;32m     82\u001b[0m         uowtransaction, table, states_to_update\n\u001b[0;32m     83\u001b[0m     )\n\u001b[0;32m     85\u001b[0m     _emit_update_statements(\n\u001b[0;32m     86\u001b[0m         base_mapper,\n\u001b[0;32m     87\u001b[0m         uowtransaction,\n\u001b[1;32m   (...)\u001b[0m\n\u001b[0;32m     90\u001b[0m         update,\n\u001b[0;32m     91\u001b[0m     )\n\u001b[1;32m---> 93\u001b[0m     \u001b[43m_emit_insert_statements\u001b[49m\u001b[43m(\u001b[49m\n\u001b[0;32m     94\u001b[0m \u001b[43m        \u001b[49m\u001b[43mbase_mapper\u001b[49m\u001b[43m,\u001b[49m\n\u001b[0;32m     95\u001b[0m \u001b[43m        \u001b[49m\u001b[43muowtransaction\u001b[49m\u001b[43m,\u001b[49m\n\u001b[0;32m     96\u001b[0m \u001b[43m        \u001b[49m\u001b[43mmapper\u001b[49m\u001b[43m,\u001b[49m\n\u001b[0;32m     97\u001b[0m \u001b[43m        \u001b[49m\u001b[43mtable\u001b[49m\u001b[43m,\u001b[49m\n\u001b[0;32m     98\u001b[0m \u001b[43m        \u001b[49m\u001b[43minsert\u001b[49m\u001b[43m,\u001b[49m\n\u001b[0;32m     99\u001b[0m \u001b[43m    \u001b[49m\u001b[43m)\u001b[49m\n\u001b[0;32m    101\u001b[0m _finalize_insert_update_commands(\n\u001b[0;32m    102\u001b[0m     base_mapper,\n\u001b[0;32m    103\u001b[0m     uowtransaction,\n\u001b[1;32m   (...)\u001b[0m\n\u001b[0;32m    119\u001b[0m     ),\n\u001b[0;32m    120\u001b[0m )\n",
      "File \u001b[1;32md:\\Semester_7\\BMCSDL\\Final\\.venv\\lib\\site-packages\\sqlalchemy\\orm\\persistence.py:1233\u001b[0m, in \u001b[0;36m_emit_insert_statements\u001b[1;34m(base_mapper, uowtransaction, mapper, table, insert, bookkeeping, use_orm_insert_stmt, execution_options)\u001b[0m\n\u001b[0;32m   1227\u001b[0m     result \u001b[38;5;241m=\u001b[39m connection\u001b[38;5;241m.\u001b[39mexecute(\n\u001b[0;32m   1228\u001b[0m         statement\u001b[38;5;241m.\u001b[39mvalues(value_params),\n\u001b[0;32m   1229\u001b[0m         params,\n\u001b[0;32m   1230\u001b[0m         execution_options\u001b[38;5;241m=\u001b[39mexecution_options,\n\u001b[0;32m   1231\u001b[0m     )\n\u001b[0;32m   1232\u001b[0m \u001b[38;5;28;01melse\u001b[39;00m:\n\u001b[1;32m-> 1233\u001b[0m     result \u001b[38;5;241m=\u001b[39m \u001b[43mconnection\u001b[49m\u001b[38;5;241;43m.\u001b[39;49m\u001b[43mexecute\u001b[49m\u001b[43m(\u001b[49m\n\u001b[0;32m   1234\u001b[0m \u001b[43m        \u001b[49m\u001b[43mstatement\u001b[49m\u001b[43m,\u001b[49m\n\u001b[0;32m   1235\u001b[0m \u001b[43m        \u001b[49m\u001b[43mparams\u001b[49m\u001b[43m,\u001b[49m\n\u001b[0;32m   1236\u001b[0m \u001b[43m        \u001b[49m\u001b[43mexecution_options\u001b[49m\u001b[38;5;241;43m=\u001b[39;49m\u001b[43mexecution_options\u001b[49m\u001b[43m,\u001b[49m\n\u001b[0;32m   1237\u001b[0m \u001b[43m    \u001b[49m\u001b[43m)\u001b[49m\n\u001b[0;32m   1239\u001b[0m primary_key \u001b[38;5;241m=\u001b[39m result\u001b[38;5;241m.\u001b[39minserted_primary_key\n\u001b[0;32m   1240\u001b[0m \u001b[38;5;28;01mif\u001b[39;00m primary_key \u001b[38;5;129;01mis\u001b[39;00m \u001b[38;5;28;01mNone\u001b[39;00m:\n",
      "File \u001b[1;32md:\\Semester_7\\BMCSDL\\Final\\.venv\\lib\\site-packages\\sqlalchemy\\engine\\base.py:1418\u001b[0m, in \u001b[0;36mConnection.execute\u001b[1;34m(self, statement, parameters, execution_options)\u001b[0m\n\u001b[0;32m   1416\u001b[0m     \u001b[38;5;28;01mraise\u001b[39;00m exc\u001b[38;5;241m.\u001b[39mObjectNotExecutableError(statement) \u001b[38;5;28;01mfrom\u001b[39;00m \u001b[38;5;21;01merr\u001b[39;00m\n\u001b[0;32m   1417\u001b[0m \u001b[38;5;28;01melse\u001b[39;00m:\n\u001b[1;32m-> 1418\u001b[0m     \u001b[38;5;28;01mreturn\u001b[39;00m \u001b[43mmeth\u001b[49m\u001b[43m(\u001b[49m\n\u001b[0;32m   1419\u001b[0m \u001b[43m        \u001b[49m\u001b[38;5;28;43mself\u001b[39;49m\u001b[43m,\u001b[49m\n\u001b[0;32m   1420\u001b[0m \u001b[43m        \u001b[49m\u001b[43mdistilled_parameters\u001b[49m\u001b[43m,\u001b[49m\n\u001b[0;32m   1421\u001b[0m \u001b[43m        \u001b[49m\u001b[43mexecution_options\u001b[49m\u001b[43m \u001b[49m\u001b[38;5;129;43;01mor\u001b[39;49;00m\u001b[43m \u001b[49m\u001b[43mNO_OPTIONS\u001b[49m\u001b[43m,\u001b[49m\n\u001b[0;32m   1422\u001b[0m \u001b[43m    \u001b[49m\u001b[43m)\u001b[49m\n",
      "File \u001b[1;32md:\\Semester_7\\BMCSDL\\Final\\.venv\\lib\\site-packages\\sqlalchemy\\sql\\elements.py:515\u001b[0m, in \u001b[0;36mClauseElement._execute_on_connection\u001b[1;34m(self, connection, distilled_params, execution_options)\u001b[0m\n\u001b[0;32m    513\u001b[0m     \u001b[38;5;28;01mif\u001b[39;00m TYPE_CHECKING:\n\u001b[0;32m    514\u001b[0m         \u001b[38;5;28;01massert\u001b[39;00m \u001b[38;5;28misinstance\u001b[39m(\u001b[38;5;28mself\u001b[39m, Executable)\n\u001b[1;32m--> 515\u001b[0m     \u001b[38;5;28;01mreturn\u001b[39;00m \u001b[43mconnection\u001b[49m\u001b[38;5;241;43m.\u001b[39;49m\u001b[43m_execute_clauseelement\u001b[49m\u001b[43m(\u001b[49m\n\u001b[0;32m    516\u001b[0m \u001b[43m        \u001b[49m\u001b[38;5;28;43mself\u001b[39;49m\u001b[43m,\u001b[49m\u001b[43m \u001b[49m\u001b[43mdistilled_params\u001b[49m\u001b[43m,\u001b[49m\u001b[43m \u001b[49m\u001b[43mexecution_options\u001b[49m\n\u001b[0;32m    517\u001b[0m \u001b[43m    \u001b[49m\u001b[43m)\u001b[49m\n\u001b[0;32m    518\u001b[0m \u001b[38;5;28;01melse\u001b[39;00m:\n\u001b[0;32m    519\u001b[0m     \u001b[38;5;28;01mraise\u001b[39;00m exc\u001b[38;5;241m.\u001b[39mObjectNotExecutableError(\u001b[38;5;28mself\u001b[39m)\n",
      "File \u001b[1;32md:\\Semester_7\\BMCSDL\\Final\\.venv\\lib\\site-packages\\sqlalchemy\\engine\\base.py:1640\u001b[0m, in \u001b[0;36mConnection._execute_clauseelement\u001b[1;34m(self, elem, distilled_parameters, execution_options)\u001b[0m\n\u001b[0;32m   1628\u001b[0m compiled_cache: Optional[CompiledCacheType] \u001b[38;5;241m=\u001b[39m execution_options\u001b[38;5;241m.\u001b[39mget(\n\u001b[0;32m   1629\u001b[0m     \u001b[38;5;124m\"\u001b[39m\u001b[38;5;124mcompiled_cache\u001b[39m\u001b[38;5;124m\"\u001b[39m, \u001b[38;5;28mself\u001b[39m\u001b[38;5;241m.\u001b[39mengine\u001b[38;5;241m.\u001b[39m_compiled_cache\n\u001b[0;32m   1630\u001b[0m )\n\u001b[0;32m   1632\u001b[0m compiled_sql, extracted_params, cache_hit \u001b[38;5;241m=\u001b[39m elem\u001b[38;5;241m.\u001b[39m_compile_w_cache(\n\u001b[0;32m   1633\u001b[0m     dialect\u001b[38;5;241m=\u001b[39mdialect,\n\u001b[0;32m   1634\u001b[0m     compiled_cache\u001b[38;5;241m=\u001b[39mcompiled_cache,\n\u001b[1;32m   (...)\u001b[0m\n\u001b[0;32m   1638\u001b[0m     linting\u001b[38;5;241m=\u001b[39m\u001b[38;5;28mself\u001b[39m\u001b[38;5;241m.\u001b[39mdialect\u001b[38;5;241m.\u001b[39mcompiler_linting \u001b[38;5;241m|\u001b[39m compiler\u001b[38;5;241m.\u001b[39mWARN_LINTING,\n\u001b[0;32m   1639\u001b[0m )\n\u001b[1;32m-> 1640\u001b[0m ret \u001b[38;5;241m=\u001b[39m \u001b[38;5;28;43mself\u001b[39;49m\u001b[38;5;241;43m.\u001b[39;49m\u001b[43m_execute_context\u001b[49m\u001b[43m(\u001b[49m\n\u001b[0;32m   1641\u001b[0m \u001b[43m    \u001b[49m\u001b[43mdialect\u001b[49m\u001b[43m,\u001b[49m\n\u001b[0;32m   1642\u001b[0m \u001b[43m    \u001b[49m\u001b[43mdialect\u001b[49m\u001b[38;5;241;43m.\u001b[39;49m\u001b[43mexecution_ctx_cls\u001b[49m\u001b[38;5;241;43m.\u001b[39;49m\u001b[43m_init_compiled\u001b[49m\u001b[43m,\u001b[49m\n\u001b[0;32m   1643\u001b[0m \u001b[43m    \u001b[49m\u001b[43mcompiled_sql\u001b[49m\u001b[43m,\u001b[49m\n\u001b[0;32m   1644\u001b[0m \u001b[43m    \u001b[49m\u001b[43mdistilled_parameters\u001b[49m\u001b[43m,\u001b[49m\n\u001b[0;32m   1645\u001b[0m \u001b[43m    \u001b[49m\u001b[43mexecution_options\u001b[49m\u001b[43m,\u001b[49m\n\u001b[0;32m   1646\u001b[0m \u001b[43m    \u001b[49m\u001b[43mcompiled_sql\u001b[49m\u001b[43m,\u001b[49m\n\u001b[0;32m   1647\u001b[0m \u001b[43m    \u001b[49m\u001b[43mdistilled_parameters\u001b[49m\u001b[43m,\u001b[49m\n\u001b[0;32m   1648\u001b[0m \u001b[43m    \u001b[49m\u001b[43melem\u001b[49m\u001b[43m,\u001b[49m\n\u001b[0;32m   1649\u001b[0m \u001b[43m    \u001b[49m\u001b[43mextracted_params\u001b[49m\u001b[43m,\u001b[49m\n\u001b[0;32m   1650\u001b[0m \u001b[43m    \u001b[49m\u001b[43mcache_hit\u001b[49m\u001b[38;5;241;43m=\u001b[39;49m\u001b[43mcache_hit\u001b[49m\u001b[43m,\u001b[49m\n\u001b[0;32m   1651\u001b[0m \u001b[43m\u001b[49m\u001b[43m)\u001b[49m\n\u001b[0;32m   1652\u001b[0m \u001b[38;5;28;01mif\u001b[39;00m has_events:\n\u001b[0;32m   1653\u001b[0m     \u001b[38;5;28mself\u001b[39m\u001b[38;5;241m.\u001b[39mdispatch\u001b[38;5;241m.\u001b[39mafter_execute(\n\u001b[0;32m   1654\u001b[0m         \u001b[38;5;28mself\u001b[39m,\n\u001b[0;32m   1655\u001b[0m         elem,\n\u001b[1;32m   (...)\u001b[0m\n\u001b[0;32m   1659\u001b[0m         ret,\n\u001b[0;32m   1660\u001b[0m     )\n",
      "File \u001b[1;32md:\\Semester_7\\BMCSDL\\Final\\.venv\\lib\\site-packages\\sqlalchemy\\engine\\base.py:1846\u001b[0m, in \u001b[0;36mConnection._execute_context\u001b[1;34m(self, dialect, constructor, statement, parameters, execution_options, *args, **kw)\u001b[0m\n\u001b[0;32m   1844\u001b[0m     \u001b[38;5;28;01mreturn\u001b[39;00m \u001b[38;5;28mself\u001b[39m\u001b[38;5;241m.\u001b[39m_exec_insertmany_context(dialect, context)\n\u001b[0;32m   1845\u001b[0m \u001b[38;5;28;01melse\u001b[39;00m:\n\u001b[1;32m-> 1846\u001b[0m     \u001b[38;5;28;01mreturn\u001b[39;00m \u001b[38;5;28;43mself\u001b[39;49m\u001b[38;5;241;43m.\u001b[39;49m\u001b[43m_exec_single_context\u001b[49m\u001b[43m(\u001b[49m\n\u001b[0;32m   1847\u001b[0m \u001b[43m        \u001b[49m\u001b[43mdialect\u001b[49m\u001b[43m,\u001b[49m\u001b[43m \u001b[49m\u001b[43mcontext\u001b[49m\u001b[43m,\u001b[49m\u001b[43m \u001b[49m\u001b[43mstatement\u001b[49m\u001b[43m,\u001b[49m\u001b[43m \u001b[49m\u001b[43mparameters\u001b[49m\n\u001b[0;32m   1848\u001b[0m \u001b[43m    \u001b[49m\u001b[43m)\u001b[49m\n",
      "File \u001b[1;32md:\\Semester_7\\BMCSDL\\Final\\.venv\\lib\\site-packages\\sqlalchemy\\engine\\base.py:1986\u001b[0m, in \u001b[0;36mConnection._exec_single_context\u001b[1;34m(self, dialect, context, statement, parameters)\u001b[0m\n\u001b[0;32m   1983\u001b[0m     result \u001b[38;5;241m=\u001b[39m context\u001b[38;5;241m.\u001b[39m_setup_result_proxy()\n\u001b[0;32m   1985\u001b[0m \u001b[38;5;28;01mexcept\u001b[39;00m \u001b[38;5;167;01mBaseException\u001b[39;00m \u001b[38;5;28;01mas\u001b[39;00m e:\n\u001b[1;32m-> 1986\u001b[0m     \u001b[38;5;28;43mself\u001b[39;49m\u001b[38;5;241;43m.\u001b[39;49m\u001b[43m_handle_dbapi_exception\u001b[49m\u001b[43m(\u001b[49m\n\u001b[0;32m   1987\u001b[0m \u001b[43m        \u001b[49m\u001b[43me\u001b[49m\u001b[43m,\u001b[49m\u001b[43m \u001b[49m\u001b[43mstr_statement\u001b[49m\u001b[43m,\u001b[49m\u001b[43m \u001b[49m\u001b[43meffective_parameters\u001b[49m\u001b[43m,\u001b[49m\u001b[43m \u001b[49m\u001b[43mcursor\u001b[49m\u001b[43m,\u001b[49m\u001b[43m \u001b[49m\u001b[43mcontext\u001b[49m\n\u001b[0;32m   1988\u001b[0m \u001b[43m    \u001b[49m\u001b[43m)\u001b[49m\n\u001b[0;32m   1990\u001b[0m \u001b[38;5;28;01mreturn\u001b[39;00m result\n",
      "File \u001b[1;32md:\\Semester_7\\BMCSDL\\Final\\.venv\\lib\\site-packages\\sqlalchemy\\engine\\base.py:2355\u001b[0m, in \u001b[0;36mConnection._handle_dbapi_exception\u001b[1;34m(self, e, statement, parameters, cursor, context, is_sub_exec)\u001b[0m\n\u001b[0;32m   2353\u001b[0m \u001b[38;5;28;01melif\u001b[39;00m should_wrap:\n\u001b[0;32m   2354\u001b[0m     \u001b[38;5;28;01massert\u001b[39;00m sqlalchemy_exception \u001b[38;5;129;01mis\u001b[39;00m \u001b[38;5;129;01mnot\u001b[39;00m \u001b[38;5;28;01mNone\u001b[39;00m\n\u001b[1;32m-> 2355\u001b[0m     \u001b[38;5;28;01mraise\u001b[39;00m sqlalchemy_exception\u001b[38;5;241m.\u001b[39mwith_traceback(exc_info[\u001b[38;5;241m2\u001b[39m]) \u001b[38;5;28;01mfrom\u001b[39;00m \u001b[38;5;21;01me\u001b[39;00m\n\u001b[0;32m   2356\u001b[0m \u001b[38;5;28;01melse\u001b[39;00m:\n\u001b[0;32m   2357\u001b[0m     \u001b[38;5;28;01massert\u001b[39;00m exc_info[\u001b[38;5;241m1\u001b[39m] \u001b[38;5;129;01mis\u001b[39;00m \u001b[38;5;129;01mnot\u001b[39;00m \u001b[38;5;28;01mNone\u001b[39;00m\n",
      "File \u001b[1;32md:\\Semester_7\\BMCSDL\\Final\\.venv\\lib\\site-packages\\sqlalchemy\\engine\\base.py:1967\u001b[0m, in \u001b[0;36mConnection._exec_single_context\u001b[1;34m(self, dialect, context, statement, parameters)\u001b[0m\n\u001b[0;32m   1965\u001b[0m                 \u001b[38;5;28;01mbreak\u001b[39;00m\n\u001b[0;32m   1966\u001b[0m     \u001b[38;5;28;01mif\u001b[39;00m \u001b[38;5;129;01mnot\u001b[39;00m evt_handled:\n\u001b[1;32m-> 1967\u001b[0m         \u001b[38;5;28;43mself\u001b[39;49m\u001b[38;5;241;43m.\u001b[39;49m\u001b[43mdialect\u001b[49m\u001b[38;5;241;43m.\u001b[39;49m\u001b[43mdo_execute\u001b[49m\u001b[43m(\u001b[49m\n\u001b[0;32m   1968\u001b[0m \u001b[43m            \u001b[49m\u001b[43mcursor\u001b[49m\u001b[43m,\u001b[49m\u001b[43m \u001b[49m\u001b[43mstr_statement\u001b[49m\u001b[43m,\u001b[49m\u001b[43m \u001b[49m\u001b[43meffective_parameters\u001b[49m\u001b[43m,\u001b[49m\u001b[43m \u001b[49m\u001b[43mcontext\u001b[49m\n\u001b[0;32m   1969\u001b[0m \u001b[43m        \u001b[49m\u001b[43m)\u001b[49m\n\u001b[0;32m   1971\u001b[0m \u001b[38;5;28;01mif\u001b[39;00m \u001b[38;5;28mself\u001b[39m\u001b[38;5;241m.\u001b[39m_has_events \u001b[38;5;129;01mor\u001b[39;00m \u001b[38;5;28mself\u001b[39m\u001b[38;5;241m.\u001b[39mengine\u001b[38;5;241m.\u001b[39m_has_events:\n\u001b[0;32m   1972\u001b[0m     \u001b[38;5;28mself\u001b[39m\u001b[38;5;241m.\u001b[39mdispatch\u001b[38;5;241m.\u001b[39mafter_cursor_execute(\n\u001b[0;32m   1973\u001b[0m         \u001b[38;5;28mself\u001b[39m,\n\u001b[0;32m   1974\u001b[0m         cursor,\n\u001b[1;32m   (...)\u001b[0m\n\u001b[0;32m   1978\u001b[0m         context\u001b[38;5;241m.\u001b[39mexecutemany,\n\u001b[0;32m   1979\u001b[0m     )\n",
      "File \u001b[1;32md:\\Semester_7\\BMCSDL\\Final\\.venv\\lib\\site-packages\\sqlalchemy\\engine\\default.py:941\u001b[0m, in \u001b[0;36mDefaultDialect.do_execute\u001b[1;34m(self, cursor, statement, parameters, context)\u001b[0m\n\u001b[0;32m    940\u001b[0m \u001b[38;5;28;01mdef\u001b[39;00m \u001b[38;5;21mdo_execute\u001b[39m(\u001b[38;5;28mself\u001b[39m, cursor, statement, parameters, context\u001b[38;5;241m=\u001b[39m\u001b[38;5;28;01mNone\u001b[39;00m):\n\u001b[1;32m--> 941\u001b[0m     \u001b[43mcursor\u001b[49m\u001b[38;5;241;43m.\u001b[39;49m\u001b[43mexecute\u001b[49m\u001b[43m(\u001b[49m\u001b[43mstatement\u001b[49m\u001b[43m,\u001b[49m\u001b[43m \u001b[49m\u001b[43mparameters\u001b[49m\u001b[43m)\u001b[49m\n",
      "File \u001b[1;32md:\\Semester_7\\BMCSDL\\Final\\.venv\\lib\\site-packages\\oracledb\\cursor.py:710\u001b[0m, in \u001b[0;36mCursor.execute\u001b[1;34m(self, statement, parameters, **keyword_parameters)\u001b[0m\n\u001b[0;32m    708\u001b[0m \u001b[38;5;28mself\u001b[39m\u001b[38;5;241m.\u001b[39m_prepare_for_execute(statement, parameters, keyword_parameters)\n\u001b[0;32m    709\u001b[0m impl \u001b[38;5;241m=\u001b[39m \u001b[38;5;28mself\u001b[39m\u001b[38;5;241m.\u001b[39m_impl\n\u001b[1;32m--> 710\u001b[0m \u001b[43mimpl\u001b[49m\u001b[38;5;241;43m.\u001b[39;49m\u001b[43mexecute\u001b[49m\u001b[43m(\u001b[49m\u001b[38;5;28;43mself\u001b[39;49m\u001b[43m)\u001b[49m\n\u001b[0;32m    711\u001b[0m \u001b[38;5;28;01mif\u001b[39;00m impl\u001b[38;5;241m.\u001b[39mfetch_vars \u001b[38;5;129;01mis\u001b[39;00m \u001b[38;5;129;01mnot\u001b[39;00m \u001b[38;5;28;01mNone\u001b[39;00m:\n\u001b[0;32m    712\u001b[0m     \u001b[38;5;28;01mreturn\u001b[39;00m \u001b[38;5;28mself\u001b[39m\n",
      "File \u001b[1;32msrc\\\\oracledb\\\\impl/thin/cursor.pyx:196\u001b[0m, in \u001b[0;36moracledb.thin_impl.ThinCursorImpl.execute\u001b[1;34m()\u001b[0m\n",
      "File \u001b[1;32msrc\\\\oracledb\\\\impl/thin/protocol.pyx:440\u001b[0m, in \u001b[0;36moracledb.thin_impl.Protocol._process_single_message\u001b[1;34m()\u001b[0m\n",
      "File \u001b[1;32msrc\\\\oracledb\\\\impl/thin/protocol.pyx:441\u001b[0m, in \u001b[0;36moracledb.thin_impl.Protocol._process_single_message\u001b[1;34m()\u001b[0m\n",
      "File \u001b[1;32msrc\\\\oracledb\\\\impl/thin/protocol.pyx:433\u001b[0m, in \u001b[0;36moracledb.thin_impl.Protocol._process_message\u001b[1;34m()\u001b[0m\n",
      "File \u001b[1;32msrc\\\\oracledb\\\\impl/thin/messages.pyx:74\u001b[0m, in \u001b[0;36moracledb.thin_impl.Message._check_and_raise_exception\u001b[1;34m()\u001b[0m\n",
      "\u001b[1;31mIntegrityError\u001b[0m: (oracledb.exceptions.IntegrityError) ORA-01400: cannot insert NULL into (\"HR\".\"ORDERS\".\"ORDER_ID\")\nHelp: https://docs.oracle.com/error-help/db/ora-01400/\n[SQL: INSERT INTO orders (user_id, total_amount) VALUES (:user_id, :total_amount) RETURNING orders.order_id, orders.order_date INTO :ret_0, :ret_1]\n[parameters: {'user_id': None, 'total_amount': 999.99, 'ret_0': <oracledb.Var of type DB_TYPE_VARCHAR with value []>, 'ret_1': <oracledb.Var of type DB_TYPE_TIMESTAMP with value []>}]\n(Background on this error at: https://sqlalche.me/e/20/gkpj)"
     ]
    }
   ],
   "source": [
    "# Tạo một phiên để tương tác với cơ sở dữ liệu\n",
    "session = Session()\n",
    "\n",
    "# Thêm dữ liệu vào bảng users\n",
    "new_user = User(username='john_doe', email='john.doe@example.com', password='securepassword123')\n",
    "session.add(new_user)\n",
    "\n",
    "# Thêm dữ liệu vào bảng products\n",
    "new_product = Product(product_name='Laptop', price=999.99, stock_quantity=50)\n",
    "session.add(new_product)\n",
    "\n",
    "# Thêm dữ liệu vào bảng orders\n",
    "# Giả sử bạn đã thêm ít nhất một user và muốn tạo đơn hàng cho user đó\n",
    "new_order = Order(user_id=new_user.id, total_amount=999.99)\n",
    "session.add(new_order)\n",
    "\n",
    "# Cam kết (commit) các thay đổi vào cơ sở dữ liệu\n",
    "session.commit()\n",
    "\n",
    "# Đóng phiên\n",
    "session.close()"
   ]
  },
  {
   "cell_type": "code",
   "execution_count": 14,
   "metadata": {},
   "outputs": [],
   "source": [
    "session.close()"
   ]
  },
  {
   "cell_type": "code",
   "execution_count": null,
   "metadata": {},
   "outputs": [],
   "source": [
    "session.close()"
   ]
  },
  {
   "cell_type": "code",
   "execution_count": null,
   "metadata": {},
   "outputs": [
    {
     "name": "stderr",
     "output_type": "stream",
     "text": [
      "C:\\Users\\DELL\\AppData\\Local\\Temp\\ipykernel_1080\\371817594.py:8: SAWarning: This declarative base already contains a class with the same class name and module name as __main__.User, and will be replaced in the string-lookup table.\n",
      "  class User(Base):\n"
     ]
    },
    {
     "ename": "InvalidRequestError",
     "evalue": "Table 'users' is already defined for this MetaData instance.  Specify 'extend_existing=True' to redefine options and columns on an existing Table object.",
     "output_type": "error",
     "traceback": [
      "\u001b[1;31m---------------------------------------------------------------------------\u001b[0m",
      "\u001b[1;31mInvalidRequestError\u001b[0m                       Traceback (most recent call last)",
      "Cell \u001b[1;32mIn[15], line 8\u001b[0m\n\u001b[0;32m      5\u001b[0m Session \u001b[38;5;241m=\u001b[39m sessionmaker(bind\u001b[38;5;241m=\u001b[39mengine)\n\u001b[0;32m      7\u001b[0m \u001b[38;5;66;03m# Định nghĩa các bảng\u001b[39;00m\n\u001b[1;32m----> 8\u001b[0m \u001b[38;5;28;01mclass\u001b[39;00m \u001b[38;5;21;01mUser\u001b[39;00m(Base):\n\u001b[0;32m      9\u001b[0m     __tablename__ \u001b[38;5;241m=\u001b[39m \u001b[38;5;124m'\u001b[39m\u001b[38;5;124musers\u001b[39m\u001b[38;5;124m'\u001b[39m\n\u001b[0;32m     11\u001b[0m     \u001b[38;5;28mid\u001b[39m \u001b[38;5;241m=\u001b[39m Column(Integer, primary_key\u001b[38;5;241m=\u001b[39m\u001b[38;5;28;01mTrue\u001b[39;00m)  \u001b[38;5;66;03m# Sử dụng SEQUENCE để tạo ID\u001b[39;00m\n",
      "File \u001b[1;32md:\\Semester_7\\BMCSDL\\Final\\.venv\\lib\\site-packages\\sqlalchemy\\orm\\decl_api.py:196\u001b[0m, in \u001b[0;36mDeclarativeMeta.__init__\u001b[1;34m(cls, classname, bases, dict_, **kw)\u001b[0m\n\u001b[0;32m    193\u001b[0m         \u001b[38;5;28mcls\u001b[39m\u001b[38;5;241m.\u001b[39m_sa_registry \u001b[38;5;241m=\u001b[39m reg\n\u001b[0;32m    195\u001b[0m \u001b[38;5;28;01mif\u001b[39;00m \u001b[38;5;129;01mnot\u001b[39;00m \u001b[38;5;28mcls\u001b[39m\u001b[38;5;241m.\u001b[39m\u001b[38;5;18m__dict__\u001b[39m\u001b[38;5;241m.\u001b[39mget(\u001b[38;5;124m\"\u001b[39m\u001b[38;5;124m__abstract__\u001b[39m\u001b[38;5;124m\"\u001b[39m, \u001b[38;5;28;01mFalse\u001b[39;00m):\n\u001b[1;32m--> 196\u001b[0m     \u001b[43m_as_declarative\u001b[49m\u001b[43m(\u001b[49m\u001b[43mreg\u001b[49m\u001b[43m,\u001b[49m\u001b[43m \u001b[49m\u001b[38;5;28;43mcls\u001b[39;49m\u001b[43m,\u001b[49m\u001b[43m \u001b[49m\u001b[43mdict_\u001b[49m\u001b[43m)\u001b[49m\n\u001b[0;32m    197\u001b[0m \u001b[38;5;28mtype\u001b[39m\u001b[38;5;241m.\u001b[39m\u001b[38;5;21m__init__\u001b[39m(\u001b[38;5;28mcls\u001b[39m, classname, bases, dict_)\n",
      "File \u001b[1;32md:\\Semester_7\\BMCSDL\\Final\\.venv\\lib\\site-packages\\sqlalchemy\\orm\\decl_base.py:244\u001b[0m, in \u001b[0;36m_as_declarative\u001b[1;34m(registry, cls, dict_)\u001b[0m\n\u001b[0;32m    239\u001b[0m \u001b[38;5;28;01mdef\u001b[39;00m \u001b[38;5;21m_as_declarative\u001b[39m(\n\u001b[0;32m    240\u001b[0m     registry: _RegistryType, \u001b[38;5;28mcls\u001b[39m: Type[Any], dict_: _ClassDict\n\u001b[0;32m    241\u001b[0m ) \u001b[38;5;241m-\u001b[39m\u001b[38;5;241m>\u001b[39m Optional[_MapperConfig]:\n\u001b[0;32m    242\u001b[0m     \u001b[38;5;66;03m# declarative scans the class for attributes.  no table or mapper\u001b[39;00m\n\u001b[0;32m    243\u001b[0m     \u001b[38;5;66;03m# args passed separately.\u001b[39;00m\n\u001b[1;32m--> 244\u001b[0m     \u001b[38;5;28;01mreturn\u001b[39;00m \u001b[43m_MapperConfig\u001b[49m\u001b[38;5;241;43m.\u001b[39;49m\u001b[43msetup_mapping\u001b[49m\u001b[43m(\u001b[49m\u001b[43mregistry\u001b[49m\u001b[43m,\u001b[49m\u001b[43m \u001b[49m\u001b[38;5;28;43mcls\u001b[39;49m\u001b[43m,\u001b[49m\u001b[43m \u001b[49m\u001b[43mdict_\u001b[49m\u001b[43m,\u001b[49m\u001b[43m \u001b[49m\u001b[38;5;28;43;01mNone\u001b[39;49;00m\u001b[43m,\u001b[49m\u001b[43m \u001b[49m\u001b[43m{\u001b[49m\u001b[43m}\u001b[49m\u001b[43m)\u001b[49m\n",
      "File \u001b[1;32md:\\Semester_7\\BMCSDL\\Final\\.venv\\lib\\site-packages\\sqlalchemy\\orm\\decl_base.py:325\u001b[0m, in \u001b[0;36m_MapperConfig.setup_mapping\u001b[1;34m(cls, registry, cls_, dict_, table, mapper_kw)\u001b[0m\n\u001b[0;32m    321\u001b[0m     \u001b[38;5;28;01mreturn\u001b[39;00m _DeferredMapperConfig(\n\u001b[0;32m    322\u001b[0m         registry, cls_, dict_, table, mapper_kw\n\u001b[0;32m    323\u001b[0m     )\n\u001b[0;32m    324\u001b[0m \u001b[38;5;28;01melse\u001b[39;00m:\n\u001b[1;32m--> 325\u001b[0m     \u001b[38;5;28;01mreturn\u001b[39;00m \u001b[43m_ClassScanMapperConfig\u001b[49m\u001b[43m(\u001b[49m\n\u001b[0;32m    326\u001b[0m \u001b[43m        \u001b[49m\u001b[43mregistry\u001b[49m\u001b[43m,\u001b[49m\u001b[43m \u001b[49m\u001b[43mcls_\u001b[49m\u001b[43m,\u001b[49m\u001b[43m \u001b[49m\u001b[43mdict_\u001b[49m\u001b[43m,\u001b[49m\u001b[43m \u001b[49m\u001b[43mtable\u001b[49m\u001b[43m,\u001b[49m\u001b[43m \u001b[49m\u001b[43mmapper_kw\u001b[49m\n\u001b[0;32m    327\u001b[0m \u001b[43m    \u001b[49m\u001b[43m)\u001b[49m\n",
      "File \u001b[1;32md:\\Semester_7\\BMCSDL\\Final\\.venv\\lib\\site-packages\\sqlalchemy\\orm\\decl_base.py:576\u001b[0m, in \u001b[0;36m_ClassScanMapperConfig.__init__\u001b[1;34m(self, registry, cls_, dict_, table, mapper_kw)\u001b[0m\n\u001b[0;32m    572\u001b[0m \u001b[38;5;28mself\u001b[39m\u001b[38;5;241m.\u001b[39m_extract_mappable_attributes()\n\u001b[0;32m    574\u001b[0m \u001b[38;5;28mself\u001b[39m\u001b[38;5;241m.\u001b[39m_extract_declared_columns()\n\u001b[1;32m--> 576\u001b[0m \u001b[38;5;28;43mself\u001b[39;49m\u001b[38;5;241;43m.\u001b[39;49m\u001b[43m_setup_table\u001b[49m\u001b[43m(\u001b[49m\u001b[43mtable\u001b[49m\u001b[43m)\u001b[49m\n\u001b[0;32m    578\u001b[0m \u001b[38;5;28mself\u001b[39m\u001b[38;5;241m.\u001b[39m_setup_inheriting_columns(mapper_kw)\n\u001b[0;32m    580\u001b[0m \u001b[38;5;28mself\u001b[39m\u001b[38;5;241m.\u001b[39m_early_mapping(mapper_kw)\n",
      "File \u001b[1;32md:\\Semester_7\\BMCSDL\\Final\\.venv\\lib\\site-packages\\sqlalchemy\\orm\\decl_base.py:1759\u001b[0m, in \u001b[0;36m_ClassScanMapperConfig._setup_table\u001b[1;34m(self, table)\u001b[0m\n\u001b[0;32m   1751\u001b[0m             table_kw[\u001b[38;5;124m\"\u001b[39m\u001b[38;5;124mautoload\u001b[39m\u001b[38;5;124m\"\u001b[39m] \u001b[38;5;241m=\u001b[39m \u001b[38;5;28;01mTrue\u001b[39;00m\n\u001b[0;32m   1753\u001b[0m         sorted_columns \u001b[38;5;241m=\u001b[39m \u001b[38;5;28msorted\u001b[39m(\n\u001b[0;32m   1754\u001b[0m             declared_columns,\n\u001b[0;32m   1755\u001b[0m             key\u001b[38;5;241m=\u001b[39m\u001b[38;5;28;01mlambda\u001b[39;00m c: column_ordering\u001b[38;5;241m.\u001b[39mget(c, \u001b[38;5;241m0\u001b[39m),\n\u001b[0;32m   1756\u001b[0m         )\n\u001b[0;32m   1757\u001b[0m         table \u001b[38;5;241m=\u001b[39m \u001b[38;5;28mself\u001b[39m\u001b[38;5;241m.\u001b[39mset_cls_attribute(\n\u001b[0;32m   1758\u001b[0m             \u001b[38;5;124m\"\u001b[39m\u001b[38;5;124m__table__\u001b[39m\u001b[38;5;124m\"\u001b[39m,\n\u001b[1;32m-> 1759\u001b[0m             table_cls(\n\u001b[0;32m   1760\u001b[0m                 tablename,\n\u001b[0;32m   1761\u001b[0m                 \u001b[38;5;28mself\u001b[39m\u001b[38;5;241m.\u001b[39m_metadata_for_cls(manager),\n\u001b[0;32m   1762\u001b[0m                 \u001b[38;5;241m*\u001b[39msorted_columns,\n\u001b[0;32m   1763\u001b[0m                 \u001b[38;5;241m*\u001b[39margs,\n\u001b[0;32m   1764\u001b[0m                 \u001b[38;5;241m*\u001b[39m\u001b[38;5;241m*\u001b[39mtable_kw,\n\u001b[0;32m   1765\u001b[0m             ),\n\u001b[0;32m   1766\u001b[0m         )\n\u001b[0;32m   1767\u001b[0m \u001b[38;5;28;01melse\u001b[39;00m:\n\u001b[0;32m   1768\u001b[0m     \u001b[38;5;28;01mif\u001b[39;00m table \u001b[38;5;129;01mis\u001b[39;00m \u001b[38;5;28;01mNone\u001b[39;00m:\n",
      "File \u001b[1;32m<string>:2\u001b[0m, in \u001b[0;36m__new__\u001b[1;34m(cls, *args, **kw)\u001b[0m\n",
      "File \u001b[1;32md:\\Semester_7\\BMCSDL\\Final\\.venv\\lib\\site-packages\\sqlalchemy\\util\\deprecations.py:281\u001b[0m, in \u001b[0;36mdeprecated_params.<locals>.decorate.<locals>.warned\u001b[1;34m(fn, *args, **kwargs)\u001b[0m\n\u001b[0;32m    274\u001b[0m     \u001b[38;5;28;01mif\u001b[39;00m m \u001b[38;5;129;01min\u001b[39;00m kwargs:\n\u001b[0;32m    275\u001b[0m         _warn_with_version(\n\u001b[0;32m    276\u001b[0m             messages[m],\n\u001b[0;32m    277\u001b[0m             versions[m],\n\u001b[0;32m    278\u001b[0m             version_warnings[m],\n\u001b[0;32m    279\u001b[0m             stacklevel\u001b[38;5;241m=\u001b[39m\u001b[38;5;241m3\u001b[39m,\n\u001b[0;32m    280\u001b[0m         )\n\u001b[1;32m--> 281\u001b[0m \u001b[38;5;28;01mreturn\u001b[39;00m fn(\u001b[38;5;241m*\u001b[39margs, \u001b[38;5;241m*\u001b[39m\u001b[38;5;241m*\u001b[39mkwargs)\n",
      "File \u001b[1;32md:\\Semester_7\\BMCSDL\\Final\\.venv\\lib\\site-packages\\sqlalchemy\\sql\\schema.py:427\u001b[0m, in \u001b[0;36mTable.__new__\u001b[1;34m(cls, *args, **kw)\u001b[0m\n\u001b[0;32m    420\u001b[0m \u001b[38;5;129m@util\u001b[39m\u001b[38;5;241m.\u001b[39mdeprecated_params(\n\u001b[0;32m    421\u001b[0m     mustexist\u001b[38;5;241m=\u001b[39m(\n\u001b[0;32m    422\u001b[0m         \u001b[38;5;124m\"\u001b[39m\u001b[38;5;124m1.4\u001b[39m\u001b[38;5;124m\"\u001b[39m,\n\u001b[1;32m   (...)\u001b[0m\n\u001b[0;32m    425\u001b[0m )\n\u001b[0;32m    426\u001b[0m \u001b[38;5;28;01mdef\u001b[39;00m \u001b[38;5;21m__new__\u001b[39m(\u001b[38;5;28mcls\u001b[39m, \u001b[38;5;241m*\u001b[39margs: Any, \u001b[38;5;241m*\u001b[39m\u001b[38;5;241m*\u001b[39mkw: Any) \u001b[38;5;241m-\u001b[39m\u001b[38;5;241m>\u001b[39m Any:\n\u001b[1;32m--> 427\u001b[0m     \u001b[38;5;28;01mreturn\u001b[39;00m \u001b[38;5;28mcls\u001b[39m\u001b[38;5;241m.\u001b[39m_new(\u001b[38;5;241m*\u001b[39margs, \u001b[38;5;241m*\u001b[39m\u001b[38;5;241m*\u001b[39mkw)\n",
      "File \u001b[1;32md:\\Semester_7\\BMCSDL\\Final\\.venv\\lib\\site-packages\\sqlalchemy\\sql\\schema.py:459\u001b[0m, in \u001b[0;36mTable._new\u001b[1;34m(cls, *args, **kw)\u001b[0m\n\u001b[0;32m    457\u001b[0m \u001b[38;5;28;01mif\u001b[39;00m key \u001b[38;5;129;01min\u001b[39;00m metadata\u001b[38;5;241m.\u001b[39mtables:\n\u001b[0;32m    458\u001b[0m     \u001b[38;5;28;01mif\u001b[39;00m \u001b[38;5;129;01mnot\u001b[39;00m keep_existing \u001b[38;5;129;01mand\u001b[39;00m \u001b[38;5;129;01mnot\u001b[39;00m extend_existing \u001b[38;5;129;01mand\u001b[39;00m \u001b[38;5;28mbool\u001b[39m(args):\n\u001b[1;32m--> 459\u001b[0m         \u001b[38;5;28;01mraise\u001b[39;00m exc\u001b[38;5;241m.\u001b[39mInvalidRequestError(\n\u001b[0;32m    460\u001b[0m             \u001b[38;5;124mf\u001b[39m\u001b[38;5;124m\"\u001b[39m\u001b[38;5;124mTable \u001b[39m\u001b[38;5;124m'\u001b[39m\u001b[38;5;132;01m{\u001b[39;00mkey\u001b[38;5;132;01m}\u001b[39;00m\u001b[38;5;124m'\u001b[39m\u001b[38;5;124m is already defined for this MetaData \u001b[39m\u001b[38;5;124m\"\u001b[39m\n\u001b[0;32m    461\u001b[0m             \u001b[38;5;124m\"\u001b[39m\u001b[38;5;124minstance.  Specify \u001b[39m\u001b[38;5;124m'\u001b[39m\u001b[38;5;124mextend_existing=True\u001b[39m\u001b[38;5;124m'\u001b[39m\u001b[38;5;124m \u001b[39m\u001b[38;5;124m\"\u001b[39m\n\u001b[0;32m    462\u001b[0m             \u001b[38;5;124m\"\u001b[39m\u001b[38;5;124mto redefine \u001b[39m\u001b[38;5;124m\"\u001b[39m\n\u001b[0;32m    463\u001b[0m             \u001b[38;5;124m\"\u001b[39m\u001b[38;5;124moptions and columns on an \u001b[39m\u001b[38;5;124m\"\u001b[39m\n\u001b[0;32m    464\u001b[0m             \u001b[38;5;124m\"\u001b[39m\u001b[38;5;124mexisting Table object.\u001b[39m\u001b[38;5;124m\"\u001b[39m\n\u001b[0;32m    465\u001b[0m         )\n\u001b[0;32m    466\u001b[0m     table \u001b[38;5;241m=\u001b[39m metadata\u001b[38;5;241m.\u001b[39mtables[key]\n\u001b[0;32m    467\u001b[0m     \u001b[38;5;28;01mif\u001b[39;00m extend_existing:\n",
      "\u001b[1;31mInvalidRequestError\u001b[0m: Table 'users' is already defined for this MetaData instance.  Specify 'extend_existing=True' to redefine options and columns on an existing Table object."
     ]
    }
   ],
   "source": [
    "from sqlalchemy import create_engine, Column, Integer, String, Float, TIMESTAMP, ForeignKey, Sequence\n",
    "from sqlalchemy.orm import declarative_base, sessionmaker\n",
    "from sqlalchemy.sql import func\n",
    "from sqlalchemy import create_engine\n",
    "from sqlalchemy.orm import sessionmaker\n",
    "from sqlalchemy import text\n",
    "\n",
    "# Thông tin kết nối\n",
    "username = 'HR'\n",
    "password = 'hr'\n",
    "\n",
    "\n",
    "engine = create_engine(\n",
    "    f'oracle+oracledb://:@',\n",
    "        thick_mode=False,\n",
    "        connect_args={\n",
    "            \"user\": username,\n",
    "            \"password\": password,\n",
    "            \"host\": 'localhost',\n",
    "            \"port\": '1521',\n",
    "            \"service_name\": 'ORCLPDB'\n",
    "    })\n",
    "\n",
    "# Tạo một session\n",
    "Session = sessionmaker(bind=engine)\n",
    "session = Session()\n",
    "\n",
    "\n",
    "# Định nghĩa các bảng\n",
    "class User(Base):\n",
    "    __tablename__ = 'users'\n",
    "\n",
    "    id = Column(Integer, primary_key=True)  # Sử dụng SEQUENCE để tạo ID\n",
    "    username = Column(String(50), nullable=False, unique=True)\n",
    "    email = Column(String(100), nullable=False, unique=True)\n",
    "    password = Column(String(255), nullable=False)\n",
    "    created_at = Column(TIMESTAMP, server_default=func.now())\n",
    "\n",
    "class Product(Base):\n",
    "    __tablename__ = 'products'\n",
    "\n",
    "    product_id = Column(Integer, primary_key=True)  # Sử dụng SEQUENCE để tạo ID\n",
    "    product_name = Column(String(100), nullable=False)\n",
    "    price = Column(Float, nullable=False)\n",
    "    stock_quantity = Column(Integer, nullable=False)\n",
    "    created_at = Column(TIMESTAMP, server_default=func.now())\n",
    "\n",
    "class Order(Base):\n",
    "    __tablename__ = 'orders'\n",
    "\n",
    "    order_id = Column(Integer, Sequence('orders_seq'), primary_key=True)  # Sử dụng SEQUENCE\n",
    "    user_id = Column(Integer, ForeignKey('users.id'), nullable=False)\n",
    "    order_date = Column(TIMESTAMP, server_default=func.now())\n",
    "    total_amount = Column(Float, nullable=False)\n",
    "\n",
    "\n",
    "# Thêm dữ liệu vào bảng users\n",
    "new_user = User(username='john_doe', email='john.doe@example.com', password='securepassword123')\n",
    "session.add(new_user)\n",
    "session.commit()  # Cam kết để lấy ID của user mới\n",
    "\n",
    "# Thêm dữ liệu vào bảng products\n",
    "new_product = Product(product_name='Laptop', price=999.99, stock_quantity=50)\n",
    "session.add(new_product)\n",
    "session.commit()  # Cam kết để lấy ID của product mới\n",
    "\n",
    "# Thêm dữ liệu vào bảng orders\n",
    "new_order = Order(user_id=new_user.id, total_amount=999.99)  # Sử dụng user_id của user mới\n",
    "session.add(new_order)\n",
    "\n",
    "# Cam kết để lưu order mới vào cơ sở dữ liệu\n",
    "session.commit()\n",
    "\n",
    "# Đóng phiên\n",
    "session.close()\n"
   ]
  }
 ],
 "metadata": {
  "kernelspec": {
   "display_name": ".venv",
   "language": "python",
   "name": "python3"
  },
  "language_info": {
   "codemirror_mode": {
    "name": "ipython",
    "version": 3
   },
   "file_extension": ".py",
   "mimetype": "text/x-python",
   "name": "python",
   "nbconvert_exporter": "python",
   "pygments_lexer": "ipython3",
   "version": "3.10.0"
  }
 },
 "nbformat": 4,
 "nbformat_minor": 2
}
